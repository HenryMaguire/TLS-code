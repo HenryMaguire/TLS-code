{
 "cells": [
  {
   "cell_type": "code",
   "execution_count": 1,
   "metadata": {},
   "outputs": [],
   "source": [
    "import time\n",
    "from style import *\n",
    "from qutip import ket, mesolve, qeye, tensor, thermal_dm, destroy, steadystate, displace\n",
    "import qutip as qt\n",
    "import matplotlib.pyplot as plt\n",
    "import numpy as np\n",
    "from numpy import pi, sqrt\n",
    "\n",
    "import UD_liouv as RC\n",
    "import driving_liouv as EM\n",
    "import scipy as sp\n",
    "\n",
    "import phonon_weak_coupling as WC\n",
    "from utils import J_overdamped, beta_f, J_underdamped, J_minimal_hard, J_multipolar, J_poly\n",
    "from utils import ground_and_excited_states, initialise_TLS, Occupation\n",
    "import pickle"
   ]
  },
  {
   "cell_type": "code",
   "execution_count": 2,
   "metadata": {},
   "outputs": [],
   "source": [
    "def load_obj(name ):\n",
    "    with open(name + '.pickle', 'rb') as f:\n",
    "        return pickle.load(f)\n",
    "\n",
    "def save_obj(obj, name ):\n",
    "    with open(name + '.pickle', 'wb') as f:\n",
    "        pickle.dump(obj, f, pickle.HIGHEST_PROTOCOL)"
   ]
  },
  {
   "cell_type": "code",
   "execution_count": 3,
   "metadata": {},
   "outputs": [
    {
     "name": "stdout",
     "output_type": "stream",
     "text": [
      "0.033356227807\n"
     ]
    }
   ],
   "source": [
    "ev_to_inv_cm = 8065.5\n",
    "inv_ps_to_inv_cm = 33.356227807\n",
    "#inv_ps_to_inv_cm = 5.309\n",
    "G = ket([0])\n",
    "E = ket([1])\n",
    "sigma = G*E.dag() # Definition of a sigma_- operator.\n",
    "J_EM = J_multipolar\n",
    "\n",
    "epsilon = 2. * ev_to_inv_cm\n",
    "w0= 50e-3 * ev_to_inv_cm\n",
    "Gamma = 10e-3 * ev_to_inv_cm\n",
    "lifetime = 1000. #ps\n",
    "Gamma_EM = (1/lifetime)*inv_ps_to_inv_cm\n",
    "print(Gamma_EM)"
   ]
  },
  {
   "cell_type": "code",
   "execution_count": 4,
   "metadata": {},
   "outputs": [
    {
     "data": {
      "text/plain": [
       "\"hbar_in_eV_s = 6.582119569e-16\\nhbar_in_eV_ps = hbar_in_eV_s*1e12\\ninv_ps_to_ev_2 = hbar_in_eV_ps*2*pi # factor of 2 pi as it's angular frequency\\nev_to_inv_ps_2 = 1/inv_ps_to_ev_2\\nev_to_inv_ps = 1/hbar_in_eV_ps\\ninv_ps_to_inv_cm_2 = (1/ev_to_inv_ps_2)*ev_to_inv_cm\\nprint(inv_ps_to_inv_cm_2)\""
      ]
     },
     "execution_count": 4,
     "metadata": {},
     "output_type": "execute_result"
    }
   ],
   "source": [
    "\"\"\"hbar_in_eV_s = 6.582119569e-16\n",
    "hbar_in_eV_ps = hbar_in_eV_s*1e12\n",
    "inv_ps_to_ev_2 = hbar_in_eV_ps*2*pi # factor of 2 pi as it's angular frequency\n",
    "ev_to_inv_ps_2 = 1/inv_ps_to_ev_2\n",
    "ev_to_inv_ps = 1/hbar_in_eV_ps\n",
    "inv_ps_to_inv_cm_2 = (1/ev_to_inv_ps_2)*ev_to_inv_cm\n",
    "print(inv_ps_to_inv_cm_2)\"\"\""
   ]
  },
  {
   "cell_type": "markdown",
   "metadata": {},
   "source": [
    "# Figure 3.2 (a)\n",
    "Emitter population dynamics from additive and non-additive theories for increasing vibrational coupling.\n"
   ]
  },
  {
   "cell_type": "code",
   "execution_count": 5,
   "metadata": {},
   "outputs": [],
   "source": [
    "# Additive model\n",
    "\n",
    "from qutip import sprepost, spre, spost\n",
    "\n",
    "def lindblad(op):\n",
    "    opdop = op.dag()*op\n",
    "    return 2*sprepost(op, op.dag()) - (spre(opdop) + spost(opdop))\n",
    "    \n",
    "def L_additive(A, T_EM):\n",
    "    n = Occupation(epsilon, T_EM)\n",
    "    return (Gamma_EM/2.)*((n+1)*lindblad(A) + n*lindblad(A.dag()))\n",
    "\n",
    "def build_additive_model(alpha, T_ph, T_EM, N, silent=True):\n",
    "    L_model, H_model, A_EM, A_nrwa, Z, wRC, kappa, gamma = RC.RC_function_UD(sigma, epsilon, T_ph, \n",
    "                                                                           Gamma, w0, alpha, \n",
    "                                                                           N, silent=silent)\n",
    "    L_model += L_additive(A_EM, T_EM)\n",
    "    return H_model, L_model, A_EM\n",
    "\n",
    "def thermal_state(T_):\n",
    "    th_un = ((-epsilon*E*E.dag()/(0.695*T_)).expm())\n",
    "    return ((th_un/th_un.norm())*E*E.dag()).tr()"
   ]
  },
  {
   "cell_type": "code",
   "execution_count": 6,
   "metadata": {},
   "outputs": [],
   "source": [
    "# Non-additive model\n",
    "\n",
    "def build_model(alpha, T_ph, T_EM, N, silent=True):\n",
    "    print(epsilon, T_ph, Gamma, w0, alpha, N)\n",
    "    L_model, H_model, A_EM, A_nrwa, Z, wRC, kappa, gamma = RC.RC_function_UD(sigma, epsilon, T_ph, \n",
    "                                                                           Gamma, w0, alpha, \n",
    "                                                                           N, silent=silent)\n",
    "    #L_model += EM.L_nonsecular(H_model, A_EM, epsilon, Gamma_EM, T_EM, J_EM, silent=silent)\n",
    "    print(EM.L_non_rwa(H_model, A_EM, epsilon, Gamma_EM, T_EM, J_EM, silent=silent).eigenenergies())\n",
    "    L_model += EM.L_non_rwa(H_model, A_EM, epsilon, Gamma_EM, T_EM, J_EM, silent=silent)\n",
    "    \n",
    "    return H_model, L_model, A_EM\n",
    "\n",
    "\n",
    "def calculate_dynamics(alpha, N, model):\n",
    "    T_ph = 300.\n",
    "    T_EM = 6000.\n",
    "    H_test, L_test, A_EM = model(alpha, T_ph, T_EM, N)\n",
    "    rho_0 = tensor(G*G.dag(), thermal_dm(N, Occupation(w0, T_ph)))\n",
    "\n",
    "    e_ops=[A_EM.dag()*A_EM]\n",
    "\n",
    "    dynamics_ = mesolve(H_test, rho_0, timelist, c_ops=[L_test], e_ops=e_ops, progress_bar=True, \n",
    "                   options=qt.Options(nsteps=8000))\n",
    "    return dynamics_.expect[0]\n",
    "\n",
    "def plot_dynamics(timelist_cm, dynamics_):\n",
    "    plt.plot(timelist_cm*inv_ps_to_inv_cm/1000, dynamics_.expect[0])\n",
    "    \n",
    "def plot_population(timelist_cm, pop, alpha_over_ep):\n",
    "    plt.plot(timelist_cm*inv_ps_to_inv_cm/1000, pop, label=r'$\\alpha\\epsilon^{-1}$'+'={}'.format(alpha_over_ep))"
   ]
  },
  {
   "cell_type": "code",
   "execution_count": 7,
   "metadata": {
    "scrolled": true
   },
   "outputs": [
    {
     "name": "stdout",
     "output_type": "stream",
     "text": [
      "(16131.0, 300.0, 80.655, 403.27500000000003, 0.0, 3)\n",
      "[-0.017034+0.j -0.017034+0.j -0.017034+0.j -0.017034+0.j -0.017034+0.j\n",
      " -0.017034+0.j -0.017034+0.j -0.017034+0.j -0.017034+0.j -0.017034+0.j\n",
      " -0.017034+0.j -0.017034+0.j -0.017034+0.j -0.017034+0.j -0.017034+0.j\n",
      " -0.017034+0.j -0.017034+0.j -0.017034+0.j  0.      +0.j  0.      +0.j\n",
      "  0.      +0.j  0.      +0.j  0.      +0.j  0.      +0.j  0.      +0.j\n",
      "  0.      +0.j  0.      +0.j  0.      +0.j  0.      +0.j  0.      +0.j\n",
      "  0.      +0.j  0.      +0.j  0.      +0.j  0.      +0.j  0.      +0.j\n",
      "  0.      +0.j]\n",
      "10.0%. Run time:   0.46s. Est. time left: 00:00:00:04\n",
      "20.0%. Run time:   0.94s. Est. time left: 00:00:00:03\n",
      "30.0%. Run time:   1.41s. Est. time left: 00:00:00:03\n",
      "40.0%. Run time:   1.88s. Est. time left: 00:00:00:02\n",
      "50.0%. Run time:   2.34s. Est. time left: 00:00:00:02\n",
      "60.0%. Run time:   2.81s. Est. time left: 00:00:00:01\n",
      "70.0%. Run time:   3.28s. Est. time left: 00:00:00:01\n",
      "80.0%. Run time:   3.75s. Est. time left: 00:00:00:00\n",
      "90.0%. Run time:   4.22s. Est. time left: 00:00:00:00\n",
      "Total run time:   4.68s\n"
     ]
    },
    {
     "data": {
      "text/plain": [
       "'for alpha_over_ep, N in zip(alpha_over_epsilon, N_vals_f2a):\\n    dyn = calculate_dynamics(alpha_over_ep*epsilon, N+1, build_model)\\n    data_fig2a.append(dyn)\\n    plot_population(timelist, dyn, alpha_over_ep)'"
      ]
     },
     "execution_count": 7,
     "metadata": {},
     "output_type": "execute_result"
    },
    {
     "data": {
      "image/png": "[encoded data removed]",
      "text/plain": [
       "<Figure size 432x288 with 1 Axes>"
      ]
     },
     "metadata": {
      "needs_background": "light"
     },
     "output_type": "display_data"
    }
   ],
   "source": [
    "alpha_over_epsilon = [0, 0.025, 0.05, 0.1, 0.15, 0.2, 0.25]\n",
    "\n",
    "\n",
    "\n",
    "timelist = np.linspace(0, 10*1e3, 3000)/inv_ps_to_inv_cm\n",
    "#H_test, L_test, A_EM = build_model(alpha, T_ph, Gamma_EM, T_EM, N)\n",
    "\n",
    "data_fig2a = []\n",
    "N_vals_f2a = np.array([14, 16, 18, 21, 25])\n",
    "N_vals_f2a = np.array([5, 5, 5, 5, 5, 5, 5]) # test\n",
    "\n",
    "#dyn_a = calculate_dynamics(0., 3, build_additive_model)\n",
    "#plot_population(timelist, dyn_a, 0.)\n",
    "dyn = calculate_dynamics(0., 3, build_model)\n",
    "plot_population(timelist, dyn, 0.)\n",
    "plt.legend()\n",
    "\n",
    "\"\"\"for alpha_over_ep, N in zip(alpha_over_epsilon, N_vals_f2a):\n",
    "    dyn = calculate_dynamics(alpha_over_ep*epsilon, N+1, build_model)\n",
    "    data_fig2a.append(dyn)\n",
    "    plot_population(timelist, dyn, alpha_over_ep)\"\"\""
   ]
  },
  {
   "cell_type": "markdown",
   "metadata": {},
   "source": [
    "Additive and non-additive agree at zero phonon-coupling. Whatever the issue is must be to do with the inclusion of phonons, but not the phonons themselves as these agree with the exact solution. It could be to do with my implementation of the non-secular code. When N gets high enough that the highest energy states are larger than the exciton splitting, the value of the excited state population starts to decrease. Perhaps I should try the Non-RWA code to see if that is better?"
   ]
  },
  {
   "cell_type": "code",
   "execution_count": 14,
   "metadata": {},
   "outputs": [],
   "source": [
    "save_obj([alpha_over_epsilon, data_fig2a], \"thesis-data/dynamics_fig_2a\")"
   ]
  },
  {
   "cell_type": "markdown",
   "metadata": {},
   "source": [
    "# Figure 3.3 (a)\n",
    "\n",
    "Steady-state emitter population as afunction of the electron-phonon coupling. $T_EM = 6000K$, $12000$ and $60000$."
   ]
  },
  {
   "cell_type": "code",
   "execution_count": 30,
   "metadata": {},
   "outputs": [
    {
     "name": "stdout",
     "output_type": "stream",
     "text": [
      "(16131.0, 300.0, 80.655, 403.27500000000003, 0.0, 6)\n",
      "[-0.017034+0.j -0.017034+0.j -0.017034+0.j -0.017034+0.j -0.017034+0.j\n",
      " -0.017034+0.j -0.017034+0.j -0.017034+0.j -0.017034+0.j -0.017034+0.j\n",
      " -0.017034+0.j -0.017034+0.j -0.017034+0.j -0.017034+0.j -0.017034+0.j\n",
      " -0.017034+0.j -0.017034+0.j -0.017034+0.j -0.017034+0.j -0.017034+0.j\n",
      " -0.017034+0.j -0.017034+0.j -0.017034+0.j -0.017034+0.j -0.017034+0.j\n",
      " -0.017034+0.j -0.017034+0.j -0.017034+0.j -0.017034+0.j -0.017034+0.j\n",
      " -0.017034+0.j -0.017034+0.j -0.017034+0.j -0.017034+0.j -0.017034+0.j\n",
      " -0.017034+0.j -0.017034+0.j -0.017034+0.j -0.017034+0.j -0.017034+0.j\n",
      " -0.017034+0.j -0.017034+0.j -0.017034+0.j -0.017034+0.j -0.017034+0.j\n",
      " -0.017034+0.j -0.017034+0.j -0.017034+0.j -0.017034+0.j -0.017034+0.j\n",
      " -0.017034+0.j -0.017034+0.j -0.017034+0.j -0.017034+0.j -0.017034+0.j\n",
      " -0.017034+0.j -0.017034+0.j -0.017034+0.j -0.017034+0.j -0.017034+0.j\n",
      " -0.017034+0.j -0.017034+0.j -0.017034+0.j -0.017034+0.j -0.017034+0.j\n",
      " -0.017034+0.j -0.017034+0.j -0.017034+0.j -0.017034+0.j -0.017034+0.j\n",
      " -0.017034+0.j -0.017034+0.j  0.      +0.j  0.      +0.j  0.      +0.j\n",
      "  0.      +0.j  0.      +0.j  0.      +0.j  0.      +0.j  0.      +0.j\n",
      "  0.      +0.j  0.      +0.j  0.      +0.j  0.      +0.j  0.      +0.j\n",
      "  0.      +0.j  0.      +0.j  0.      +0.j  0.      +0.j  0.      +0.j\n",
      "  0.      +0.j  0.      +0.j  0.      +0.j  0.      +0.j  0.      +0.j\n",
      "  0.      +0.j  0.      +0.j  0.      +0.j  0.      +0.j  0.      +0.j\n",
      "  0.      +0.j  0.      +0.j  0.      +0.j  0.      +0.j  0.      +0.j\n",
      "  0.      +0.j  0.      +0.j  0.      +0.j  0.      +0.j  0.      +0.j\n",
      "  0.      +0.j  0.      +0.j  0.      +0.j  0.      +0.j  0.      +0.j\n",
      "  0.      +0.j  0.      +0.j  0.      +0.j  0.      +0.j  0.      +0.j\n",
      "  0.      +0.j  0.      +0.j  0.      +0.j  0.      +0.j  0.      +0.j\n",
      "  0.      +0.j  0.      +0.j  0.      +0.j  0.      +0.j  0.      +0.j\n",
      "  0.      +0.j  0.      +0.j  0.      +0.j  0.      +0.j  0.      +0.j\n",
      "  0.      +0.j  0.      +0.j  0.      +0.j  0.      +0.j  0.      +0.j\n",
      "  0.      +0.j  0.      +0.j  0.      +0.j  0.      +0.j]\n"
     ]
    }
   ],
   "source": [
    "def get_steadystate_population(alpha, T_ph, T_EM, N):\n",
    "    H_test, L_test, A_EM = build_model(alpha, T_ph, T_EM, N)\n",
    "    return (steadystate(H_test, [L_test])*A_EM.dag()*A_EM).tr()\n",
    "\n",
    "# test\n",
    "\n",
    "assert((get_steadystate_population(0., 300., 6000., 6) - thermal_state(6000.))<1e-12)"
   ]
  },
  {
   "cell_type": "code",
   "execution_count": 7,
   "metadata": {
    "scrolled": true
   },
   "outputs": [
    {
     "name": "stdout",
     "output_type": "stream",
     "text": [
      "(16131.0, 300.0, 80.655, 403.27500000000003, 12904.800000000001, 40)\n",
      "(16131.0, 300.0, 80.655, 403.27500000000003, 12904.800000000001, 41)\n",
      "(16131.0, 300.0, 80.655, 403.27500000000003, 12904.800000000001, 42)\n",
      "(16131.0, 300.0, 80.655, 403.27500000000003, 12904.800000000001, 43)\n",
      "(16131.0, 300.0, 80.655, 403.27500000000003, 12904.800000000001, 44)\n",
      "(16131.0, 300.0, 80.655, 403.27500000000003, 12904.800000000001, 45)\n",
      "(16131.0, 300.0, 80.655, 403.27500000000003, 12904.800000000001, 46)\n",
      "(16131.0, 300.0, 80.655, 403.27500000000003, 12904.800000000001, 47)\n",
      "(16131.0, 300.0, 80.655, 403.27500000000003, 12904.800000000001, 48)\n",
      "(16131.0, 300.0, 80.655, 403.27500000000003, 12904.800000000001, 49)\n",
      "(16131.0, 300.0, 80.655, 403.27500000000003, 12904.800000000001, 50)\n",
      "(16131.0, 300.0, 80.655, 403.27500000000003, 12904.800000000001, 51)\n",
      "(16131.0, 300.0, 80.655, 403.27500000000003, 12904.800000000001, 52)\n",
      "(16131.0, 300.0, 80.655, 403.27500000000003, 12904.800000000001, 53)\n",
      "(16131.0, 300.0, 80.655, 403.27500000000003, 12904.800000000001, 54)\n",
      "(16131.0, 300.0, 80.655, 403.27500000000003, 12904.800000000001, 55)\n",
      "(16131.0, 300.0, 80.655, 403.27500000000003, 12904.800000000001, 56)\n"
     ]
    },
    {
     "data": {
      "text/plain": [
       "[<matplotlib.lines.Line2D at 0x117f59110>]"
      ]
     },
     "execution_count": 7,
     "metadata": {},
     "output_type": "execute_result"
    },
    {
     "data": {
      "image/png": "[encoded data removed]",
      "text/plain": [
       "<Figure size 432x288 with 1 Axes>"
      ]
     },
     "metadata": {
      "needs_background": "light"
     },
     "output_type": "display_data"
    }
   ],
   "source": [
    "# Trying to get the data to converge. You need many many states.\n",
    "conv_dat = []\n",
    "N_vals_conv = range(40, 57)\n",
    "for N_ in N_vals_conv:\n",
    "    pop = get_steadystate_population(0.8*epsilon, 300., 6000., N_)\n",
    "    conv_dat.append(pop)\n",
    "    print(pop)\n",
    "plt.plot(N_vals_conv, conv_dat)"
   ]
  },
  {
   "cell_type": "code",
   "execution_count": 31,
   "metadata": {},
   "outputs": [
    {
     "data": {
      "text/plain": [
       "0.4044795542739482"
      ]
     },
     "execution_count": 31,
     "metadata": {},
     "output_type": "execute_result"
    }
   ],
   "source": [
    "thermal_state(60000.)"
   ]
  },
  {
   "cell_type": "code",
   "execution_count": 10,
   "metadata": {},
   "outputs": [
    {
     "name": "stdout",
     "output_type": "stream",
     "text": [
      "[21, 26, 31, 36, 41]\n",
      "(0.0, 21, 6000.0)\n",
      "(3226.2000000000003, 26, 6000.0)\n",
      "(6452.400000000001, 31, 6000.0)\n",
      "(9678.600000000002, 36, 6000.0)\n",
      "(12904.800000000001, 41, 6000.0)\n",
      "6000.0\n",
      "(0.0, 21, 12000.0)\n",
      "(3226.2000000000003, 26, 12000.0)\n",
      "(6452.400000000001, 31, 12000.0)\n",
      "(9678.600000000002, 36, 12000.0)\n",
      "(12904.800000000001, 41, 12000.0)\n",
      "12000.0\n",
      "(0.0, 21, 60000.0)\n",
      "(3226.2000000000003, 26, 60000.0)\n",
      "(6452.400000000001, 31, 60000.0)\n",
      "(9678.600000000002, 36, 60000.0)\n",
      "(12904.800000000001, 41, 60000.0)\n",
      "60000.0\n"
     ]
    },
    {
     "data": {
      "image/png": "[encoded data removed]",
      "text/plain": [
       "<Figure size 432x288 with 1 Axes>"
      ]
     },
     "metadata": {
      "needs_background": "light"
     },
     "output_type": "display_data"
    }
   ],
   "source": [
    "alpha_over_epsilon_f3 = np.linspace(0, 0.8,5)\n",
    "#N_vals_f3 = [int(n)+1 for n in np.linspace(10, 23,len(alpha_over_epsilon_f3))]\n",
    "N_vals_f3 = [int(n)+1 for n in np.linspace(20, 40,len(alpha_over_epsilon_f3))]\n",
    "print(N_vals_f3)\n",
    "data_fig3a = []\n",
    "for T_EM_3a in [6e3, 12e3, 60e3]:\n",
    "    row = []\n",
    "    for N_3a, aoe_3a in zip(N_vals_f3, alpha_over_epsilon_f3):\n",
    "        alpha_3a = aoe_3a*epsilon\n",
    "        print(alpha_3a, N_3a, T_EM_3a)\n",
    "        row.append(get_steadystate_population(alpha_3a, 300., T_EM_3a, N_3a))\n",
    "    print(T_EM_3a)\n",
    "    data_fig3a.append(row)\n",
    "    plt.plot(alpha_over_epsilon_f3, row)\n",
    "    plt.ylim(0,1)"
   ]
  },
  {
   "cell_type": "code",
   "execution_count": 17,
   "metadata": {},
   "outputs": [],
   "source": [
    "save_obj(data_fig3a, \"thesis-data/dynamics_fig_3a\")"
   ]
  },
  {
   "cell_type": "code",
   "execution_count": 11,
   "metadata": {},
   "outputs": [
    {
     "name": "stdout",
     "output_type": "stream",
     "text": [
      "(16131.0, 300.0, 80.655, 403.27500000000003, 400, 15)\n",
      "0.141163812393\n",
      "(16131.0, 300.0, 80.655, 403.27500000000003, 400, 16)\n",
      "0.141164039342\n"
     ]
    }
   ],
   "source": [
    "print(get_steadystate_population(400, 300., 12000., 15))\n",
    "print(get_steadystate_population(400, 300., 12000., 16))"
   ]
  },
  {
   "cell_type": "code",
   "execution_count": 8,
   "metadata": {},
   "outputs": [
    {
     "name": "stdout",
     "output_type": "stream",
     "text": [
      "(16131.0, 300.0, 80.655, 403.27500000000003, 400, 15)\n",
      "0.141155249205\n",
      "(16131.0, 300.0, 80.655, 403.27500000000003, 400, 16)\n",
      "0.141155616146\n"
     ]
    }
   ],
   "source": [
    "print(get_steadystate_population(400, 300., 12000., 15))\n",
    "print(get_steadystate_population(400, 300., 12000., 16))"
   ]
  },
  {
   "cell_type": "code",
   "execution_count": 7,
   "metadata": {},
   "outputs": [
    {
     "name": "stdout",
     "output_type": "stream",
     "text": [
      "(16131.0, 300.0, 80.655, 403.27500000000003, 400, 15)\n",
      "0.141163249874\n",
      "(16131.0, 300.0, 80.655, 403.27500000000003, 400, 16)\n",
      "0.14116348602\n"
     ]
    }
   ],
   "source": [
    "print(get_steadystate_population(400, 300., 12000., 15))\n",
    "print(get_steadystate_population(400, 300., 12000., 16))"
   ]
  },
  {
   "cell_type": "code",
   "execution_count": null,
   "metadata": {},
   "outputs": [],
   "source": []
  }
 ],
 "metadata": {
  "kernelspec": {
   "display_name": "Python 2",
   "language": "python",
   "name": "python2"
  },
  "language_info": {
   "codemirror_mode": {
    "name": "ipython",
    "version": 2
   },
   "file_extension": ".py",
   "mimetype": "text/x-python",
   "name": "python",
   "nbconvert_exporter": "python",
   "pygments_lexer": "ipython2",
   "version": "2.7.15"
  }
 },
 "nbformat": 4,
 "nbformat_minor": 2
}
