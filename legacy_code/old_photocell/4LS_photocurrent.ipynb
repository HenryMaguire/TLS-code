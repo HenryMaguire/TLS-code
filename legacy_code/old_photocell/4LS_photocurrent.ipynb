{
 "cells": [
  {
   "cell_type": "code",
   "execution_count": 1,
   "metadata": {
    "collapsed": true,
    "deletable": true,
    "editable": true
   },
   "outputs": [],
   "source": [
    "import time\n",
    "import numpy as np\n",
    "\n",
    "import matplotlib.pyplot as plt\n",
    "import qutip as qt\n",
    "from scipy import integrate\n",
    "\n",
    "import UD_liouv as RC\n",
    "import driving_liouv as EM\n",
    "\n",
    "import phonon_weak_coupling as WC\n",
    "\n",
    "from qutip import ket, basis, sigmam, sigmap, sigmaz, spre, sprepost, spost, destroy, mesolve, tensor, qeye, Qobj\n",
    "from numpy import pi, linspace, sqrt\n",
    "from utils import J_overdamped, beta_f, J_underdamped, J_minimal_hard, J_multipolar\n",
    "from utils import ground_and_excited_states, initialise_TLS\n",
    "from utils import save_obj, load_obj\n",
    "\n",
    "from fermionic_leads import current_vs_phonon_coupling, current_from_L, L_R_lead_dissipators, build_H\n",
    "import fermionic_leads as fl"
   ]
  },
  {
   "cell_type": "markdown",
   "metadata": {
    "deletable": true,
    "editable": true
   },
   "source": [
    "The main photocell figures of merit are $C_{sc}$, $V_{oc}$ and $P_{max}$ which can all be found from a current-voltage diagram. Firstly, need an environment where all of the phonon, lead and optical parameters are defined to check the sort of phonon occupations that occur with some fair parameters. I'll refactor the old optical-free `current_vs_phonon_coupling` code to do this."
   ]
  },
  {
   "cell_type": "code",
   "execution_count": 2,
   "metadata": {
    "collapsed": true,
    "deletable": true,
    "editable": true
   },
   "outputs": [],
   "source": [
    "colors = plt.rcParams['axes.prop_cycle'].by_key()['color']\n",
    "\n",
    "kB = 0.695\n",
    "EE = basis(2,1)*basis(2,1).dag()\n",
    "GG = basis(2,0)*basis(2,0).dag()\n",
    "Zero = tensor(basis(2,0), basis(2,0))\n",
    "sz = EE - GG\n",
    "sm = destroy(2)\n",
    "d2 = tensor(sm, sz) # swapped around from the calculations\n",
    "d1 = tensor(qeye(2), sm)\n",
    "I_sys = Qobj(qeye(4), dims= [[2, 2], [2, 2]])\n",
    "d1dag, d2dag = d1.dag(), d2.dag()\n",
    "\n",
    "z_ket = basis(4,0)\n",
    "l_ket = basis(4,1)\n",
    "lp_ket = basis(4,2)\n",
    "d_ket = basis(4,3)\n",
    "\n",
    "D = d1dag*d1*d2dag*d2\n",
    "Z = Qobj(z_ket*z_ket.dag(), dims=D.dims)\n",
    "LUMO = Qobj(l_ket*l_ket.dag(), dims=D.dims)\n",
    "LUMOp = Qobj(lp_ket*lp_ket.dag(), dims=D.dims)\n",
    "n_sub = d1dag*d1 + d2dag*d2 # populatiion operator\n",
    "\n",
    "J_leads = J_underdamped\n",
    "J_EM = J_multipolar\n",
    "\n",
    "def build_H(eps1, eps2, U):\n",
    "    return eps1*d1dag*d1 + eps2*d2dag*d2 + U*D"
   ]
  },
  {
   "cell_type": "code",
   "execution_count": 9,
   "metadata": {
    "collapsed": false,
    "deletable": true,
    "editable": true
   },
   "outputs": [
    {
     "name": "stdout",
     "output_type": "stream",
     "text": [
      "V = 3000.\n",
      "RC would need 25.7142857143 states to fill electronic gap.\n",
      "Gap is 2.58992805755 times kBT.\n",
      "Calculating the lead dissipators took 22.0841300488 seconds.\n",
      "each loop using direct took 0.575147795677 seconds\n",
      "each loop using iterative-gmres took 1.51081340313 seconds\n",
      "each loop using iterative-lgmres took 1.44923660755 seconds\n",
      "each loop using iterative-bicgstab took 1.43921239376 seconds\n",
      "V = 100.\n",
      "RC would need 25.7142857143 states to fill electronic gap.\n",
      "Gap is 2.58992805755 times kBT.\n",
      "Calculating the lead dissipators took 28.3479239941 seconds.\n",
      "each loop using direct took 0.612307810783 seconds\n",
      "each loop using iterative-gmres took 1.45395169258 seconds\n",
      "each loop using iterative-lgmres took 1.3240623951 seconds\n",
      "each loop using iterative-bicgstab took 1.50296070576 seconds\n",
      "V = 1000.\n",
      "RC would need 25.7142857143 states to fill electronic gap.\n",
      "Gap is 2.58992805755 times kBT.\n",
      "Calculating the lead dissipators took 27.450521946 seconds.\n",
      "each loop using direct took 0.534758996964 seconds\n",
      "each loop using iterative-gmres took 2.43965189457 seconds\n",
      "each loop using iterative-lgmres took 2.15957942009 seconds\n",
      "each loop using iterative-bicgstab took 1.52186169624 seconds\n"
     ]
    }
   ],
   "source": [
    "reload(fl)\n",
    "def current_method_tester(eps1, eps2, T_EM=1000., Gamma_EM=0.5, T_ph=77., \n",
    "                            alphaph=100., Gamma=30., w0=70., U=0., N=10,\n",
    "                               gamma_L=1., T_L=77., width_L=1000., pos_L=1000.,\n",
    "                               gamma_R=1., T_R=77., width_R=1000., pos_R=1000.,\n",
    "                               height_L=1., height_R=1., V = 3000.):\n",
    "    \n",
    "    mu0 = (eps1+eps2)/2.\n",
    "    \n",
    "    eps = abs(eps2-eps1)\n",
    "    V_values = np. linspace(0., eps, 35)\n",
    "    print \"RC would need {} states to fill electronic gap.\".format(eps/w0)\n",
    "    print \"Gap is {} times kBT.\".format( eps/(0.695*T_EM))\n",
    "    currents_nonadd = []\n",
    "    currents_add = []\n",
    "    H = build_H(eps1, eps2, U)\n",
    "    d_sub = d1+d2\n",
    "    d_RC = tensor(d_sub, qeye(N))\n",
    "    E_RC = tensor(n_sub, qeye(N))\n",
    "    RC_occ = destroy(N).dag()*destroy(N)\n",
    "    RC_occ_ = tensor(I_sys, RC_occ)\n",
    "    obs_ops = [E_RC, RC_occ_]\n",
    "    alpha_ph = alphaph/pi\n",
    "\n",
    "    L_RC, H_RC, A_EM, A_nrwa, Z, _, _, _ = fl.RC_function_UD(H, n_sub, d_sub, T_ph,\n",
    "                                                        Gamma, w0, alpha_ph,\n",
    "                                                        N, silent=True)\n",
    "    L_Lfull, L_Rfull = fl.L_R_lead_dissipators(H_RC, d_RC,\n",
    "                                        T_L=T_L, mu_L=mu0-(V/2.), width_L=width_L,\n",
    "                                        pos_L=pos_L, height_L=height_L,\n",
    "                                        T_R=T_R, mu_R=mu0+(V/2.), width_R=width_R,\n",
    "                                        pos_R=pos_R, height_R=height_R, silent=False)\n",
    "    L_EM_full = EM.L_non_rwa(H_RC, A_nrwa, eps, Gamma_EM, T_EM, J=J_EM, silent=True)\n",
    "    L_full = L_RC+L_Lfull+L_Rfull+L_EM_full\n",
    "    n_reps = 10\n",
    "    for meth in ['direct', 'iterative-gmres', \n",
    "                 'iterative-lgmres', 'iterative-bicgstab']:\n",
    "        ti = time.time()\n",
    "        for _ in range(n_reps):\n",
    "            fl.current_from_L(H_RC, L_full, L_Rfull, obs_ops, method=meth)\n",
    "        print \"each loop using {} took {} seconds\".format(meth, (time.time()-ti)/n_reps)\n",
    "\n",
    "eps2, eps1 = 2000,200\n",
    "N =12\n",
    "print \"V = 3000.\"\n",
    "current_method_tester(eps2, eps1, T_EM=1000., Gamma_EM=0.5, T_ph=77., \n",
    "                           alphaph=200., Gamma=30., w0=70., U=0., N=N,\n",
    "                           gamma_L=1., T_L=77., width_L=eps2, pos_L=eps2,\n",
    "                           gamma_R=1., T_R=77., width_R=eps2, pos_R=eps2,\n",
    "                           height_L=1., height_R=1., V = 4000.)\n",
    "print \"V = 100.\"\n",
    "current_method_tester(eps2, eps1, T_EM=1000., Gamma_EM=0.5, T_ph=77., \n",
    "                           alphaph=200., Gamma=30., w0=70., U=0., N=N,\n",
    "                           gamma_L=1., T_L=77., width_L=eps2, pos_L=eps2,\n",
    "                           gamma_R=1., T_R=77., width_R=eps2, pos_R=eps2,\n",
    "                           height_L=1., height_R=1., V = 0.)\n",
    "print \"V = 1000.\"\n",
    "current_method_tester(eps2, eps1, T_EM=1000., Gamma_EM=0.5, T_ph=77., \n",
    "                           alphaph=200., Gamma=30., w0=70., U=0., N=N,\n",
    "                           gamma_L=1., T_L=77., width_L=eps2, pos_L=eps2,\n",
    "                           gamma_R=1., T_R=77., width_R=eps2, pos_R=eps2,\n",
    "                           height_L=1., height_R=1., V = 100.)"
   ]
  },
  {
   "cell_type": "code",
   "execution_count": 8,
   "metadata": {
    "collapsed": false,
    "deletable": true,
    "editable": true
   },
   "outputs": [
    {
     "name": "stdout",
     "output_type": "stream",
     "text": [
      "V = 3000.\n"
     ]
    },
    {
     "ename": "NameError",
     "evalue": "name 'current_method_tester' is not defined",
     "output_type": "error",
     "traceback": [
      "\u001b[0;31m---------------------------------------------------------------------------\u001b[0m",
      "\u001b[0;31mNameError\u001b[0m                                 Traceback (most recent call last)",
      "\u001b[0;32m<ipython-input-8-76c781d19c83>\u001b[0m in \u001b[0;36m<module>\u001b[0;34m()\u001b[0m\n\u001b[1;32m      1\u001b[0m \u001b[0;32mprint\u001b[0m \u001b[0;34m\"V = 3000.\"\u001b[0m\u001b[0;34m\u001b[0m\u001b[0m\n\u001b[1;32m      2\u001b[0m \u001b[0mN\u001b[0m \u001b[0;34m=\u001b[0m \u001b[0;36m12\u001b[0m\u001b[0;34m\u001b[0m\u001b[0m\n\u001b[0;32m----> 3\u001b[0;31m current_method_tester(eps2, eps1, T_EM=1000., Gamma_EM=0.5, T_ph=77., \n\u001b[0m\u001b[1;32m      4\u001b[0m                            \u001b[0malphaph\u001b[0m\u001b[0;34m=\u001b[0m\u001b[0;36m200.\u001b[0m\u001b[0;34m,\u001b[0m \u001b[0mGamma\u001b[0m\u001b[0;34m=\u001b[0m\u001b[0;36m30.\u001b[0m\u001b[0;34m,\u001b[0m \u001b[0mw0\u001b[0m\u001b[0;34m=\u001b[0m\u001b[0;36m70.\u001b[0m\u001b[0;34m,\u001b[0m \u001b[0mU\u001b[0m\u001b[0;34m=\u001b[0m\u001b[0;36m0.\u001b[0m\u001b[0;34m,\u001b[0m \u001b[0mN\u001b[0m\u001b[0;34m=\u001b[0m\u001b[0mN\u001b[0m\u001b[0;34m,\u001b[0m\u001b[0;34m\u001b[0m\u001b[0m\n\u001b[1;32m      5\u001b[0m                            \u001b[0mgamma_L\u001b[0m\u001b[0;34m=\u001b[0m\u001b[0;36m1.\u001b[0m\u001b[0;34m,\u001b[0m \u001b[0mT_L\u001b[0m\u001b[0;34m=\u001b[0m\u001b[0;36m77.\u001b[0m\u001b[0;34m,\u001b[0m \u001b[0mwidth_L\u001b[0m\u001b[0;34m=\u001b[0m\u001b[0meps2\u001b[0m\u001b[0;34m,\u001b[0m \u001b[0mpos_L\u001b[0m\u001b[0;34m=\u001b[0m\u001b[0meps2\u001b[0m\u001b[0;34m,\u001b[0m\u001b[0;34m\u001b[0m\u001b[0m\n",
      "\u001b[0;31mNameError\u001b[0m: name 'current_method_tester' is not defined"
     ]
    }
   ],
   "source": [
    "print \"V = 3000.\"\n",
    "N = 12\n",
    "current_method_tester(eps2, eps1, T_EM=1000., Gamma_EM=0.5, T_ph=77., \n",
    "                           alphaph=200., Gamma=30., w0=70., U=0., N=N,\n",
    "                           gamma_L=1., T_L=77., width_L=eps2, pos_L=eps2,\n",
    "                           gamma_R=1., T_R=77., width_R=eps2, pos_R=eps2,\n",
    "                           height_L=1., height_R=1., V = 4000.)\n",
    "print \"V = 100.\"\n",
    "current_method_tester(eps2, eps1, T_EM=1000., Gamma_EM=0.5, T_ph=77., \n",
    "                           alphaph=200., Gamma=30., w0=70., U=0., N=N,\n",
    "                           gamma_L=1., T_L=77., width_L=eps2, pos_L=eps2,\n",
    "                           gamma_R=1., T_R=77., width_R=eps2, pos_R=eps2,\n",
    "                           height_L=1., height_R=1., V = 0.)\n",
    "print \"V = 1000.\"\n",
    "current_method_tester(eps2, eps1, T_EM=1000., Gamma_EM=0.5, T_ph=77., \n",
    "                           alphaph=200., Gamma=30., w0=70., U=0., N=N,\n",
    "                           gamma_L=1., T_L=77., width_L=eps2, pos_L=eps2,\n",
    "                           gamma_R=1., T_R=77., width_R=eps2, pos_R=eps2,\n",
    "                           height_L=1., height_R=1., V = 1000.)"
   ]
  },
  {
   "cell_type": "code",
   "execution_count": 4,
   "metadata": {
    "collapsed": false,
    "deletable": true,
    "editable": true
   },
   "outputs": [
    {
     "name": "stdout",
     "output_type": "stream",
     "text": [
      "silicon Gap is 2.87769784173 times bigger than kbT\n",
      "RC would need 15.0 states to fill electronic gap.\n",
      "Gap is 2.58992805755 times kBT.\n",
      "w_RC=120.0 | RC-res. coupling=0.04 | TLS-RC coupling=77.46 | Gamma_RC=30.00 | alpha_ph=31.83 | N=12 |\n",
      "0.0 % complete\n",
      "28.5714285714 % complete\n",
      "Took 701.139816046 seconds.\n",
      "RC would need 15.0 states to fill electronic gap.\n",
      "Gap is 1.29496402878 times kBT.\n",
      "w_RC=120.0 | RC-res. coupling=0.04 | TLS-RC coupling=7.75 | Gamma_RC=30.00 | alpha_ph=0.32 | N=3 |\n",
      "0.0 % complete\n",
      "28.5714285714 % complete\n",
      "57.1428571429 % complete\n",
      "Took 43.0087518692 seconds.\n"
     ]
    }
   ],
   "source": [
    "reload(fl)\n",
    "def photocurrent_vs_voltage(eps1, eps2, T_EM=1000., Gamma_EM=0.5, T_ph=77., \n",
    "                            alphaph=100., Gamma=30., w0=70., U=0., N=10,\n",
    "                               gamma_L=1., T_L=77., width_L=1000., pos_L=1000.,\n",
    "                               gamma_R=1., T_R=77., width_R=1000., pos_R=1000.,\n",
    "                               height_L=1., height_R=1., method='direct'):\n",
    "    ti = time.time()\n",
    "    mu0 = (eps1+eps2)/2.\n",
    "    \n",
    "    eps = abs(eps2-eps1)\n",
    "    V_values = np. linspace(0., eps, 35)\n",
    "    print \"RC would need {} states to fill electronic gap.\".format(eps/w0)\n",
    "    print \"Gap is {} times kBT.\".format( eps/(0.695*T_EM))\n",
    "    currents_nonadd = []\n",
    "    currents_add = []\n",
    "    H = build_H(eps1, eps2, U)\n",
    "    d_sub = d1+d2\n",
    "    d_RC = tensor(d_sub, qeye(N))\n",
    "    E_RC = tensor(n_sub, qeye(N))\n",
    "    RC_occ = destroy(N).dag()*destroy(N)\n",
    "    RC_occ_ = tensor(I_sys, RC_occ)\n",
    "    obs_ops = [E_RC, RC_occ_]\n",
    "    alpha_ph = alphaph/pi\n",
    "    L_RC, H_RC, A_EM, A_nrwa, Z, _, _, _ = fl.RC_function_UD(H, n_sub, d_sub, T_ph,\n",
    "                                                        Gamma, w0, alpha_ph,\n",
    "                                                        N, silent=False)\n",
    "    _, H_add, _, _, _, _, _, _ = fl.RC_function_UD(H, n_sub, d_sub, T_ph,\n",
    "                                                        Gamma, w0, 0.,\n",
    "                                                        N, silent=True)\n",
    "    L_EM_add = EM.L_non_rwa(H_add, A_nrwa, eps, Gamma_EM, T_EM, J=J_EM, silent=True)\n",
    "    L_EM_full = EM.L_non_rwa(H_RC, A_nrwa, eps, Gamma_EM, T_EM, J=J_EM, silent=True)\n",
    "    for i, V in enumerate(V_values):\n",
    "        L_Lfull, L_Rfull = fl.L_R_lead_dissipators(H_RC, d_RC,\n",
    "                                            T_L=T_L, mu_L=mu0-(V/2.), width_L=width_L,\n",
    "                                            pos_L=pos_L, height_L=height_L,\n",
    "                                            T_R=T_R, mu_R=mu0+(V/2.), width_R=width_R,\n",
    "                                            pos_R=pos_R, height_R=height_R)\n",
    "        currents_add.append(fl.current_from_L(H_RC, L_RC+L_Lfull+L_Rfull+L_EM_add, \n",
    "                                            L_Rfull, obs_ops, method=method))\n",
    "        currents_nonadd.append(fl.current_from_L(H_RC, L_RC+L_Lfull+L_Rfull+L_EM_full,\n",
    "                                            L_Rfull, obs_ops, method=method))\n",
    "        del L_Lfull, L_Rfull\n",
    "        if (currents_add[-1][0].real <0) and (currents_nonadd[-1][0].real<0):\n",
    "            # only interested up to zero current\n",
    "            break\n",
    "        if (i%10)==0:\n",
    "            print 100*(float(i)/len(V_values)), \"% complete\"\n",
    "    print \"Took {} seconds.\".format(time.time()-ti)\n",
    "    # current_from_L spits out observables side-by-side so need to transpose\n",
    "    currents_add = np.array(currents_add).T\n",
    "    currents_nonadd = np.array(currents_nonadd).T\n",
    "    return V_values[0: len(currents_add[0])], currents_add, currents_nonadd\n",
    "print \"silicon Gap is {} times bigger than kbT\".format((1.5*8000)/(0.695*6000.))\n",
    "eps1 = 2000.\n",
    "eps2 = 200.\n",
    "eps = (eps1-eps2)\n",
    "\n",
    "\n",
    "\n",
    "v, ca, cna = photocurrent_vs_voltage(eps1, eps2, U=0., N=12,\n",
    "                                     Gamma_EM=0.5, T_EM=1000., \n",
    "                                     T_ph=77., Gamma=30., w0=eps/15., alphaph=100., \n",
    "                                     gamma_L=1., T_L=77., width_L=eps, pos_L=eps1,\n",
    "                                     gamma_R=1., T_R=77., width_R=eps, pos_R=eps1)\n",
    "v0, ca0, cna0 = photocurrent_vs_voltage(eps1, eps2, U=0., N=3,\n",
    "                                     Gamma_EM=0.5, T_EM=2000., \n",
    "                                     T_ph=77., Gamma=30., w0=eps/15., alphaph=1., \n",
    "                                     gamma_L=1., T_L=77., width_L=eps, pos_L=eps1,\n",
    "                                     gamma_R=1., T_R=77., width_R=eps, pos_R=eps1)"
   ]
  },
  {
   "cell_type": "code",
   "execution_count": null,
   "metadata": {
    "collapsed": true,
    "deletable": true,
    "editable": true
   },
   "outputs": [],
   "source": [
    "_v  = np.array([0,1,2,3,4,5,6])\n",
    "_c1 = np.array([5,4,3,2,1,0,-1])\n",
    "_c2 = np.array([4,3,2,1,0,-1,-2])\n",
    "def short_current(v,c):\n",
    "    return c[0]\n",
    "def estimate_Voc(v, c):\n",
    "    first_neg_c_id = len(c)-len([i for i in c if i<0])\n",
    "    assert c[first_neg_c_id] <0 , \"{} is not less than 0.\". format(c[first_neg_c_id])\n",
    "    assert c[first_neg_c_id-1] >=0, \"{} is not greater than or equal to 0.\".format(cc[first_neg_c_id-1])\n",
    "    intercept = c[-2]\n",
    "    m = (c[-2]-c[-1])/float(v[-2]-v[-1])\n",
    "    pred_v = (-c[-2]/m)+v[-2]\n",
    "    return pred_v\n",
    "\n",
    "def power(v, c):\n",
    "    return np.array(v)*np.array(c)\n",
    "\n",
    "def max_power(p):\n",
    "    # can make this more sophisticated at a later date\n",
    "    return np.max(p)\n",
    "\n",
    "def fill_factor(v, c):\n",
    "    return max_power(power(v, c))/(c[0]*estimate_Voc(v, c))\n",
    "\n",
    "assert estimate_Voc(_v, _c1) == 5.\n",
    "assert estimate_Voc(_v, _c2)== 4."
   ]
  },
  {
   "cell_type": "code",
   "execution_count": 6,
   "metadata": {
    "collapsed": false,
    "deletable": true,
    "editable": true
   },
   "outputs": [
    {
     "name": "stdout",
     "output_type": "stream",
     "text": [
      "(0.741448567825+0j)\n",
      "(0.741440778425+0j)\n",
      "(0.685845597199+0j)\n",
      "(0.685239196638+0j)\n"
     ]
    }
   ],
   "source": [
    "v = np. linspace(0., eps, 35)[0:21]\n",
    "v0 = np. linspace(0., eps, 35)[0:28]\n",
    "print fill_factor(v0, ca0[0])\n",
    "print fill_factor(v0, cna0[0])\n",
    "print fill_factor(v, ca[0])\n",
    "print fill_factor(v, cna[0])"
   ]
  },
  {
   "cell_type": "markdown",
   "metadata": {
    "deletable": true,
    "editable": true
   },
   "source": [
    "Since the open-circuit has a greater percentage difference between additive and non-additive than the maximum power, the overall fill factor is actually lower in the non-additive case. It also drops for increasing phonon-coupling."
   ]
  },
  {
   "cell_type": "code",
   "execution_count": 11,
   "metadata": {
    "collapsed": false,
    "deletable": true,
    "editable": true
   },
   "outputs": [
    {
     "data": {
      "image/png": "[encoded data removed]",
      "text/plain": [
       "<matplotlib.figure.Figure at 0x7efb2b60c390>"
      ]
     },
     "metadata": {},
     "output_type": "display_data"
    },
    {
     "data": {
      "image/png": "[encoded data removed]",
      "text/plain": [
       "<matplotlib.figure.Figure at 0x7efae97c1250>"
      ]
     },
     "metadata": {},
     "output_type": "display_data"
    },
    {
     "data": {
      "image/png": "[encoded data removed]",
      "text/plain": [
       "<matplotlib.figure.Figure at 0x7efae97dd5d0>"
      ]
     },
     "metadata": {},
     "output_type": "display_data"
    }
   ],
   "source": [
    "\n",
    "\"\"\"plt.plot(v0, ca0[0], ls='dashed', c=colors[0])\n",
    "plt.plot(v0, cna0[0], label='wc', c=colors[0])\"\"\"\n",
    "plt.plot(v, ca[0], ls='dashed', c=colors[1])\n",
    "plt.plot(v, cna[0], label='sc', c=colors[1])\n",
    "plt.axvline(estimate_Voc(v, ca[0]))\n",
    "plt.grid()\n",
    "plt.legend()\n",
    "\n",
    "plt.figure()\n",
    "plt.plot(v, power(v, ca[0]), ls='dashed', c=colors[1])\n",
    "plt.plot(v, power(v, cna[0]), label='sc', c=colors[1])\n",
    "plt.axhline(max_power(power(v, cna[0])))\n",
    "plt.grid()\n",
    "plt.legend()\n",
    "\n",
    "plt.figure()\n",
    "\"\"\"plt.plot(v0, ca0[1], ls='dashed', c=colors[0])\n",
    "plt.plot(v0, cna0[1], label='wc', c=colors[0])\"\"\"\n",
    "plt.plot(v, ca[1], ls='dashed', c=colors[1])\n",
    "plt.plot(v, cna[1], label='sc', c=colors[1])\n",
    "plt.legend()\n",
    "plt.grid()\n",
    "plt.show()"
   ]
  },
  {
   "cell_type": "code",
   "execution_count": null,
   "metadata": {
    "collapsed": false,
    "deletable": true,
    "editable": true
   },
   "outputs": [
    {
     "name": "stdout",
     "output_type": "stream",
     "text": [
      "RC would need 15.0 states to fill electronic gap.\n",
      "Gap is 2.58992805755 times kBT.\n",
      "5.0 % complete\n",
      "10.0 % complete\n",
      "15.0 % complete\n"
     ]
    }
   ],
   "source": [
    "reload(fl)\n",
    "def current_vs_voltage_vs_phonon_coupling(eps1, eps2, T_EM=1000., Gamma_EM=0.5, T_ph=77., \n",
    "                                 alphaph=100., Gamma=30., w0=70., U=0., N=10,\n",
    "                                 gamma_L=1., T_L=77., width_L=1000., pos_L=1000.,\n",
    "                                 gamma_R=1., T_R=77., width_R=1000., pos_R=1000.,\n",
    "                                 height_L=1., height_R=1., method='direct'):\n",
    "    nonadd_data = []\n",
    "    add_data = []\n",
    "    ti = time.time()\n",
    "    mu0 = (eps1+eps2)/2.\n",
    "    eps = abs(eps2-eps1)\n",
    "    \n",
    "    print \"RC would need {} states to fill electronic gap.\".format(eps/w0)\n",
    "    print \"Gap is {} times kBT.\".format( eps/(0.695*T_EM))\n",
    "    \n",
    "    H = build_H(eps1, eps2, U)\n",
    "    d_sub = d1+d2\n",
    "    \n",
    "    alpha_values = np.linspace(0,0.2*eps,20)\n",
    "    V_values = np. linspace(0., eps, 30)\n",
    "    ti = time.time()\n",
    "    for j, alpha in enumerate(alpha_values):\n",
    "        alpha_ph = alpha/pi\n",
    "        currents_nonadd = []\n",
    "        currents_add = []\n",
    "        if pi*alpha_ph < 0.05*eps:\n",
    "            N = 10\n",
    "        if pi*alpha_ph < 0.01*eps:\n",
    "            N = 4\n",
    "        \n",
    "        d_RC = tensor(d_sub, qeye(N))\n",
    "        E_RC = tensor(n_sub, qeye(N))\n",
    "        RC_occ = destroy(N).dag()*destroy(N)\n",
    "        RC_occ_ = tensor(I_sys, RC_occ)\n",
    "        obs_ops = [E_RC, RC_occ_]\n",
    "        L_RC, H_RC, A_EM, A_nrwa, Z, _, _, _ = fl.RC_function_UD(H, n_sub, d_sub, T_ph,\n",
    "                                                                Gamma, w0, alpha_ph,\n",
    "                                                                N, silent=True)\n",
    "        _, H_add, _, _, _, _, _, _ = fl.RC_function_UD(H, n_sub, d_sub, T_ph,\n",
    "                                                            Gamma, w0, 0.,\n",
    "                                                            N, silent=True)\n",
    "        del _, Z\n",
    "        L_EM_add = EM.L_non_rwa(H_add, A_nrwa, eps, Gamma_EM, T_EM, J=J_EM, silent=True)\n",
    "        L_EM_full = EM.L_non_rwa(H_RC, A_nrwa, eps, Gamma_EM, T_EM, J=J_EM, silent=True)\n",
    "        for i, V in enumerate(V_values):\n",
    "            \n",
    "            L_Lfull, L_Rfull = fl.L_R_lead_dissipators(H_RC, d_RC,\n",
    "                                                T_L=T_L, mu_L=mu0-(V/2), width_L=width_L,\n",
    "                                                pos_L=pos_L, height_L=height_L,\n",
    "                                                T_R=T_R, mu_R=mu0+(V/2), width_R=width_R,\n",
    "                                                pos_R=pos_R, height_R=height_R)\n",
    "            currents_add.append(fl.current_from_L(H_RC, L_RC+L_Lfull+L_Rfull+L_EM_add, \n",
    "                                                L_Rfull, obs_ops, method=method))\n",
    "            currents_nonadd.append(fl.current_from_L(H_RC, L_RC+L_Lfull+L_Rfull+L_EM_full,\n",
    "                                                L_Rfull, obs_ops, method=method))\n",
    "            del L_Lfull, L_Rfull\n",
    "            time.sleep(2)\n",
    "            if (currents_add[-1][0].real <0) and (currents_nonadd[-1][0].real<0):\n",
    "                # only interested up to zero current\n",
    "                break\n",
    "        print 100*(float(j+1)/len(alpha_values)), \"% complete\"\n",
    "        add_data.append(np.array(currents_add).T)\n",
    "        nonadd_data.append(np.array(currents_nonadd).T)\n",
    "    print \"Took {} seconds.\".format(time.time() - ti)\n",
    "    return alpha_values, V_values, add_data, nonadd_data\n",
    "\n",
    "eps1 = 2000.\n",
    "eps2 = 200.\n",
    "eps = (eps1-eps2)\n",
    "\n",
    "alpha_values, V_values, add_data, nonadd_data = current_vs_voltage_vs_phonon_coupling(\n",
    "                                     eps1, eps2, U=0., N=12, Gamma_EM=0.5, T_EM=1000., \n",
    "                                     T_ph=77., Gamma=30., w0=eps/15., alphaph=100., \n",
    "                                     gamma_L=1., T_L=77., width_L=eps, pos_L=eps1,\n",
    "                                     gamma_R=1., T_R=77., width_R=eps, pos_R=eps1)"
   ]
  },
  {
   "cell_type": "code",
   "execution_count": null,
   "metadata": {
    "collapsed": true,
    "deletable": true,
    "editable": true
   },
   "outputs": [],
   "source": [
    "save_obj((alpha_values, V_values, add_data, nonadd_data), 'DATA_4LS/test_4LS_data1')"
   ]
  },
  {
   "cell_type": "code",
   "execution_count": 9,
   "metadata": {
    "collapsed": true,
    "deletable": true,
    "editable": true
   },
   "outputs": [],
   "source": [
    "del alpha_values, V_values, add_data, nonadd_data"
   ]
  },
  {
   "cell_type": "code",
   "execution_count": null,
   "metadata": {
    "collapsed": true,
    "deletable": true,
    "editable": true
   },
   "outputs": [],
   "source": [
    "alpha_values, V_values, add_data, nonadd_data = load_obj('DATA_4LS/test_4LS_data1')\n",
    "def plot_max_power_vs_phonon_coupling(alpha_values, V_values, add_data, nonadd_data):\n",
    "    dat = [add_data, nonadd_data]\n",
    "    P_data = []\n",
    "    for dt in dat:\n",
    "        P_m = []\n",
    "        for per_alpha in dt:\n",
    "            current = per_alpha[0]\n",
    "            P_m.append(max_power(power(V_values[0:len(current)], current)))\n",
    "        P_data.append(P_m)\n",
    "    plt.plot(alpha_values, P_data[0], label='add')\n",
    "    plt.plot(alpha_values, P_data[1], label='full')\n",
    "    plt.xlabel(r\"$\\pi\\alpha$\")\n",
    "    plt.ylabel(r\"max Power\")\n",
    "    plt.legend()\n",
    "    plt.show()\n",
    "\n",
    "def plot_attr_vs_phonon_coupling(attr, alpha_values, V_values, add_data,\n",
    "                                 nonadd_data, y_label=''):\n",
    "    dat = [add_data, nonadd_data]\n",
    "    P_data = []\n",
    "    for dt in dat:\n",
    "        P_m = []\n",
    "        for per_alpha in dt:\n",
    "            current = per_alpha[0]\n",
    "            P_m.append(attr(V_values[0:len(current)], current))\n",
    "        P_data.append(P_m)\n",
    "    plt.figure()\n",
    "    plt.plot(alpha_values, P_data[0], label='add')\n",
    "    plt.plot(alpha_values, P_data[1], label='full')\n",
    "    plt.ylabel(y_label)\n",
    "    plt.xlabel(r\"$\\pi\\alpha$\")\n",
    "    plt.legend()\n",
    "    plt.show()\n",
    "\n",
    "    \n",
    "plot_attr_vs_phonon_coupling(fill_factor, alpha_values, V_values, add_data, \n",
    "                             nonadd_data, y_label='Fill Factor')\n",
    "plot_attr_vs_phonon_coupling(short_current, alpha_values, V_values, add_data, \n",
    "                             nonadd_data, y_label=r'$C_{sc}$')\n",
    "\n",
    "plot_max_power_vs_phonon_coupling(alpha_values, V_values, add_data, nonadd_data)"
   ]
  },
  {
   "cell_type": "code",
   "execution_count": 19,
   "metadata": {
    "collapsed": false,
    "deletable": true,
    "editable": true
   },
   "outputs": [
    {
     "data": {
      "image/png": "[encoded data removed]",
      "text/plain": [
       "<matplotlib.figure.Figure at 0x7f820eb6c6d0>"
      ]
     },
     "metadata": {},
     "output_type": "display_data"
    }
   ],
   "source": [
    "V_values = np. linspace(200., eps, 30)\n",
    "dat = np.array(add_data)[0][0]\n",
    "plt.plot(V_values[0:len(dat)], dat)\n",
    "plt.show()"
   ]
  },
  {
   "cell_type": "code",
   "execution_count": null,
   "metadata": {
    "collapsed": true,
    "deletable": true,
    "editable": true
   },
   "outputs": [],
   "source": [
    "def photocurrent_vs_phonon_coupling(eps1, eps2, T_EM=1000., Gamma_EM=0.5, T_ph=77., Gamma=30., w0=70., U=0., N=10,\n",
    "                               gamma_L=1., T_L=77., mu_L=1000., width_L=1000., pos_L=1000.,\n",
    "                               gamma_R=1., T_R=77., mu_R=0., width_R=1000., pos_R=1000.,\n",
    "                               height_L=1., height_R=1., method='iterative-gmres'):\n",
    "    ti = time.time()\n",
    "    eps = abs(eps2-eps1)\n",
    "    alpha_prop = np. linspace(0., 1., 15)\n",
    "    print \"RC would need {} states to fill electronic gap.\".format(eps/w0)\n",
    "    currents_nonadd = []\n",
    "    \n",
    "    H = build_H(eps1, eps2, U)\n",
    "    d_sub = d1+d2\n",
    "    d_RC = tensor(d_sub, qeye(N))\n",
    "    E_RC = tensor(n, qeye(N))\n",
    "    RC_occ = destroy(N).dag()*destroy(N)\n",
    "    RC_occ_ = tensor(I_sys, RC_occ)\n",
    "    obs_ops = [E_RC, RC_occ_]\n",
    "    for i, alphap in enumerate(alpha_prop):\n",
    "        alpha_ph = alphap*eps/pi\n",
    "        L_RC, H_RC, A_EM, A_nrwa, Z, _, _, _ = RC_function_UD(H, n_sub, d_sub, T_ph,\n",
    "                                                            Gamma, w0, alpha_ph,\n",
    "                                                            N, silent=True)\n",
    "        _, H_add, _, _, _, _, _, _ = RC_function_UD(H, n_sub, d_sub, T_ph,\n",
    "                                                            Gamma, w0, 0.,\n",
    "                                                            N, silent=True)\n",
    "        L_EM_add = EM.L_non_rwa(H_add, A_nrwa, eps, Gamma_EM, T_EM, J=J_EM, silent=True)\n",
    "        L_EM_full = EM.L_non_rwa(H_RC, A_nrwa, eps, Gamma_EM, T_EM, J=J_EM, silent=True)\n",
    "        L_Lfull, L_Rfull = L_R_lead_dissipators(H_RC, d_RC,\n",
    "                                            T_L=T_L, mu_L=mu_L, width_L=width_L,\n",
    "                                            pos_L=pos_L, height_L=height_L,\n",
    "                                            T_R=T_R, mu_R=mu_R, width_R=width_R,\n",
    "                                            pos_R=pos_R, height_R=height_R)\n",
    "        currents_add.append(current_from_L(H_RC, L_RC+L_Lfull+L_Rfull+L_EM_add, \n",
    "                                            L_Radd, obs_ops, method=method))\n",
    "        currents_nonadd.append(current_from_L(H_RC, L_RC+L_Lfull+L_Rfull+L_EM_full,\n",
    "                                            L_Rfull, obs_ops, method=method))\n",
    "        del L_Lfull, L_Rfull, L_RC, H_RC, H_add, A_EM, A_nrwa, Z\n",
    "        if (i%10)==0:\n",
    "            print 100*(float(i)/len(alpha_prop)), \"% complete\"\n",
    "    print \"Took {} seconds.\".format(time.time()-ti)\n",
    "    return alpha_prop,  np.array(currents_nonadd).T\n"
   ]
  },
  {
   "cell_type": "code",
   "execution_count": null,
   "metadata": {
    "collapsed": true,
    "deletable": true,
    "editable": true
   },
   "outputs": [],
   "source": [
    "\n",
    "\n",
    "def photocurrent_vs_phonon_coupling(eps, T_ph, Gamma, w0, T_EM=5800., N=10, \n",
    "                                    T_L=77., T_R=77., mu_L=100., mu_R=900.,\n",
    "                                    Gamma_EM=1.):\n",
    "    ti = time.time()\n",
    "    alpha_prop = np. linspace(0, 1., 50)\n",
    "    print \"RC would need {} states to fill electronic gap.\".format(eps/w0)\n",
    "    currents_add = []\n",
    "    currents_nonadd = []\n",
    "    d_RC = tensor(d, qeye(N))\n",
    "    E_RC = tensor(E, qeye(N))\n",
    "    \n",
    "    #timelist = np.linspace(0, 3/Gamma_EM, 360)\n",
    "    for i, alphap in enumerate(alpha_prop):\n",
    "        alpha_ph = alphap*eps/pi\n",
    "        L_RC, H_RC, A_EM, A_nrwa, Z, _, _, _, = RC.RC_function_UD(d, eps, T_ph, Gamma, w0, alpha_ph, \n",
    "                                                         N, silent=True)\n",
    "        L_EM_add = EM.L_EM_lindblad(eps, A_EM, Gamma_EM, T_EM, J_EM, silent=True)\n",
    "        L_EM_full = EM.L_non_rwa(H_RC, A_nrwa, eps, Gamma_EM, T_EM, J=J_EM, silent=True)\n",
    "        L_L_add = additive_lead_dissipator(eps, d_RC, T_L, mu_L, Gamma_l)\n",
    "        L_R_add = additive_lead_dissipator(eps, d_RC, T_R, mu_R, Gamma_l)\n",
    "        L_L_full, L_R_full = fl.L_R_lead_dissipators(H_RC, d_RC, eps, T_L, mu_L, Gamma_l, T_R, mu_R, Gamma_l)\n",
    "        currents_add.append(current_from_L(H_RC, L_RC+L_EM_add+L_L_add+L_R_add, L_R_add, E_RC))\n",
    "        currents_nonadd.append(current_from_L(H_RC, L_RC+L_EM_full+L_L_full+L_R_full, L_R_full, E_RC))\n",
    "        if (i%10)==0:\n",
    "            print 100*(float(i)/len(alpha_prop)), \"% complete\"\n",
    "    print \"Took {} seconds.\".format(time.time()-ti)\n",
    "    return alpha_prop, currents_add, currents_nonadd"
   ]
  }
 ],
 "metadata": {
  "kernelspec": {
   "display_name": "Python 2",
   "language": "python",
   "name": "python2"
  },
  "language_info": {
   "codemirror_mode": {
    "name": "ipython",
    "version": 2
   },
   "file_extension": ".py",
   "mimetype": "text/x-python",
   "name": "python",
   "nbconvert_exporter": "python",
   "pygments_lexer": "ipython2",
   "version": "2.7.12"
  }
 },
 "nbformat": 4,
 "nbformat_minor": 2
}
