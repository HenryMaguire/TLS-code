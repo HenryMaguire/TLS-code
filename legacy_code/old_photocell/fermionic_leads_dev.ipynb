{
 "cells": [
  {
   "cell_type": "markdown",
   "metadata": {},
   "source": [
    "# Fermionic leads and photocurrent\n",
    "\n",
    "In this notebook I will look at introducing a single TLS to leads, both with and without phonons. The natural order is as follows:\n",
    "\n",
    "- ~~TLS without phonons coupled to a single fermionic environment~~\n",
    "- ~~TLS with phonons, coupled non-additively to FE~~\n",
    "- ~~TLS with phonons, coupled additively to FE as a special case~~\n",
    "- ~~TLS without phonons coupled to two FE~~\n",
    "\n",
    "**Get all of the above done before 11th**\n",
    "\n",
    "- Calculating current with the above model, recreate known results\n",
    "- Introducing optical environments\n",
    "- Photocurrent model\n",
    "- With phonons coupled additively to two FE, no optical bath. Test somehow.\n",
    "- TLS with phonons coupled non-additively to two FE. Test with no optical bath.\n",
    "\n",
    "\n",
    "**Get all of the above done before 15th**\n",
    "- Full photocurrent model in a separate notebook but...\n",
    "- Show that it maps onto simpler 3LS model\n",
    "\n",
    "### Photocurrent analysis ideas\n",
    "**Aim 1: to understand how non-additivity in the leads and phonon coupling affects the photocurrent. **\n",
    "- Do phonons enhance current? \n",
    "- Does non-additivity lead to a disproportionate enhancement?\n",
    "- Look at the four different combinations of theory\n",
    "\n",
    "** Aim 2: to make the point that the simple rate models must have rates which are constrained in the same way as the lead models ** \n",
    "- What is the relationship between these constraints/rates?\n",
    "\n",
    "### For thesis and beyond\n",
    "** The dimer**\n",
    "- Comparing whether phonon non-additivity impacts more here\n",
    "- Does dark-state protection help?\n",
    "- How would one constrain the baths of Neill's paper to get thermodynamically consistent results?"
   ]
  },
  {
   "cell_type": "markdown",
   "metadata": {},
   "source": [
    "## A TLS without phonons coupled to a single fermionic bath"
   ]
  },
  {
   "cell_type": "code",
   "execution_count": 19,
   "metadata": {
    "collapsed": true
   },
   "outputs": [],
   "source": [
    "from qutip import ket, basis, sigmam, sigmap, spre, sprepost, spost, destroy, mesolve\n",
    "import numpy as np\n",
    "from numpy import pi, linspace\n",
    "import matplotlib.pyplot as plt\n",
    "import qutip as qt\n",
    "from utils import J_overdamped, J_flat"
   ]
  },
  {
   "cell_type": "code",
   "execution_count": 36,
   "metadata": {},
   "outputs": [
    {
     "data": {
      "image/png": "[encoded data removed]",
      "text/plain": [
       "<matplotlib.figure.Figure at 0x7fde65819b50>"
      ]
     },
     "metadata": {},
     "output_type": "display_data"
    }
   ],
   "source": [
    "kB = 0.695\n",
    "\n",
    "def J_flat_phonons(omega, Gamma, _a, _b):\n",
    "    return Gamma\n",
    "\n",
    "def fermi_occ(eps, T, mu):\n",
    "    eps, T, mu = float(eps), float(T), float(mu)\n",
    "    exp_part = np.exp((eps-mu)/(kB*T))\n",
    "    return 1/(exp_part+1)\n",
    "\n",
    "def additive_dissipator(eps, T, mu, height, width, pos, J):\n",
    "    L = 0\n",
    "    L+= pi*J(eps, height, width, pos)*fermi_occ(eps, T, mu)*(spost(d*ddag)+spre(d*ddag)-2*sprepost(ddag, d))\n",
    "    L+= pi*J(eps, height, width, pos)*(1-fermi_occ(eps, T, mu))*(spost(ddag*d)+spre(ddag*d)-2*sprepost(d, ddag))\n",
    "    return -L\n",
    "\n",
    "d = destroy(2)\n",
    "ddag = d.dag()\n",
    "\n",
    "E = basis(2,1)*basis(2,1).dag()\n",
    "G = basis(2,0)*basis(2,0).dag()\n",
    "eps = 1000\n",
    "mu = 100\n",
    "T = 100\n",
    "Gamma = 1\n",
    "H = eps*E\n",
    "L_add = additive_dissipator(eps, T, mu, Gamma, 1000., eps, J_underdamped)\n",
    "rho0 = basis(2,0)\n",
    "timelist = np.linspace(0,2,1000)\n",
    "elist = [basis(2,1)*basis(2,1).dag()]\n",
    "data = mesolve(H, rho0, timelist, [L_add], elist)\n",
    "rho_ss_num = (-(1/(kB*T))*(eps-mu)*E).expm()\n",
    "rho_ss = rho_ss_num/rho_ss_num.tr()\n",
    "plt.plot(timelist, data.expect[0])\n",
    "plt.ylabel(\"Excited level population\")\n",
    "plt.axhline((rho_ss*E).tr(), ls='dashed', color='r')\n",
    "plt.show()"
   ]
  },
  {
   "cell_type": "markdown",
   "metadata": {},
   "source": [
    "So that worked first try! Now additive"
   ]
  },
  {
   "cell_type": "code",
   "execution_count": 28,
   "metadata": {},
   "outputs": [
    {
     "data": {
      "image/png": "[encoded data removed]",
      "text/plain": [
       "<matplotlib.figure.Figure at 0x7fde65e5d810>"
      ]
     },
     "metadata": {},
     "output_type": "display_data"
    }
   ],
   "source": [
    "def rate_up(e_lk, T, mu, Gamma_0, width, pos, J):\n",
    "    return pi*J(e_lk, Gamma_0, width, pos)*fermi_occ(e_lk, T, mu)\n",
    "\n",
    "def rate_down(e_lk, T, mu, Gamma_0, width, pos, J):\n",
    "    return pi*J(e_lk, Gamma_0, width, pos)*(1-fermi_occ(e_lk, T, mu))\n",
    "\n",
    "def limit_fermi_flat(Gamma_0, T, mu):\n",
    "    # up, down\n",
    "    return pi*Gamma_0*(1-fermi_occ(2*mu, T, mu)), pi*Gamma_0*fermi_occ(2*mu, T, mu)\n",
    "\n",
    "def limit_fermi_lorentz(Gamma_0, T, mu):\n",
    "    # up, down\n",
    "    return 0,0                           \n",
    "def non_additive_dissipator(H, A, eps, T, mu, Gamma_0, width, pos, J):\n",
    "    L=0\n",
    "    evals, estates = H.eigenstates()\n",
    "    Zp_1 = 0\n",
    "    Zp_2 = 0\n",
    "    Zm_1 = 0\n",
    "    Zm_2 = 0\n",
    "    dim = len(evals)\n",
    "    Adag = A.dag()\n",
    "    for l in range(dim):\n",
    "        for k in range(dim):\n",
    "            e_lk = abs(evals[l]- evals[k])\n",
    "            A_kl = A.matrix_element(estates[k].dag(), estates[l])\n",
    "            Adag_lk = Adag.matrix_element(estates[l].dag(), estates[k])\n",
    "            LK = estates[l]*estates[k].dag()\n",
    "            KL = estates[k]*estates[l].dag()\n",
    "            if e_lk != 0:\n",
    "                Zp_1 += LK*Adag_lk*rate_up(e_lk, T, mu, Gamma_0, width, pos, J)\n",
    "                Zp_2 += LK*Adag_lk*rate_down(e_lk, T, mu, Gamma_0, width, pos, J)\n",
    "                Zm_1 += KL*A_kl*rate_up(e_lk, T, mu, Gamma_0, width, pos, J)\n",
    "                Zm_2 += KL*A_kl*rate_down(e_lk, T, mu, Gamma_0, width, pos, J)\n",
    "            else:\n",
    "                rup, rdown = limit_fermi_lorentz(Gamma_0, T, mu)\n",
    "                Zp_1 += LK*Adag_lk*rup\n",
    "                Zp_2 += LK*Adag_lk*rdown\n",
    "                Zm_1 += KL*A_kl*rup\n",
    "                Zm_2 += KL*A_kl*rdown\n",
    "    #print Z_plus_1+Z_plus_2, Z_minus_1+Z_minus_2\n",
    "    L += spre(A*Zp_1)-sprepost(Zp_1, A)\n",
    "    L += -sprepost(A, Zp_2)+spost(Zp_2*A)\n",
    "    L += spre(Adag*Zm_2)-sprepost(Zm_2, Adag)\n",
    "    L += -sprepost(Adag, Zm_1)+spost(Zm_1*Adag)\n",
    "    return -L\n",
    "\n",
    "L_nonadd = non_additive_dissipator(H, d, eps, T, mu, Gamma, eps, eps, J_underdamped)\n",
    "data = mesolve(H, rho0, timelist, [L_nonadd], elist)\n",
    "plt.plot(timelist, data.expect[0])\n",
    "plt.xlabel(\"Excited level population\")\n",
    "\n",
    "plt.axhline((rho_ss*E).tr(), ls='dashed', color='r')\n",
    "plt.show()"
   ]
  },
  {
   "cell_type": "markdown",
   "metadata": {},
   "source": [
    "## Two fermionic leads\n",
    "Just look at dynamics for the system connected to two leads"
   ]
  },
  {
   "cell_type": "code",
   "execution_count": 45,
   "metadata": {},
   "outputs": [
    {
     "data": {
      "image/png": "[encoded data removed]",
      "text/plain": [
       "<matplotlib.figure.Figure at 0x7fde65693590>"
      ]
     },
     "metadata": {},
     "output_type": "display_data"
    }
   ],
   "source": [
    "width=100.\n",
    "L_L = non_additive_dissipator(H, d, eps, T, mu, Gamma, width, eps, J_underdamped)\n",
    "L_R = non_additive_dissipator(H, d, eps, T, -mu, Gamma, width, eps, J_underdamped)\n",
    "data = mesolve(H, rho0, timelist, [L_L+L_R], elist)\n",
    "plt.plot(timelist, data.expect[0])\n",
    "plt.xlabel(\"Excited level population\")\n",
    "#plt.axhline((rho_ss*E).tr(), ls='dashed', color='r')\n",
    "plt.show()"
   ]
  },
  {
   "cell_type": "markdown",
   "metadata": {},
   "source": [
    "## Current Calculations\n",
    "From the analytic solution of the Lindblad equation, we can find an expression for the current going *into* the right lead $J_R= \\frac{\\gamma_L\\gamma_R}{\\gamma_L+\\gamma_R}(f_L-f_R)$. We can use this calculation to find a procedure for calculating the current given some arbitrary Liouvillian, given that we can split up the Liouvillian for left and right lead $L_{leads}=L_L+L_R$."
   ]
  },
  {
   "cell_type": "code",
   "execution_count": 51,
   "metadata": {},
   "outputs": [
    {
     "name": "stdout",
     "output_type": "stream",
     "text": [
      "-0.261808327038\n",
      "0.0529228829007\n",
      "Comparing numerical and analytical\n",
      "analytic current: \t\t7.04761090689e-06\n",
      "numerical current (right lead):  3.55921968935e-08\n",
      "numerical current (left lead) :  -3.55921968935e-08\n"
     ]
    }
   ],
   "source": [
    "def analytic_additive_current(eps, Gamma_L=0.1, Gamma_R=0.1, T_L=300., T_R=300., mu_L=0, mu_R=500):\n",
    "    return 2*pi*(fermi_occ(eps, T_L, mu_L)-fermi_occ(eps, T_R, mu_R))*(Gamma_L*Gamma_R)/(Gamma_R+Gamma_L)\n",
    "\n",
    "# Difference in chemical potential (excited state below right lead)\n",
    "print analytic_additive_current(500, Gamma_L=0.1, Gamma_R=0.1, T_L=300., T_R=300., mu_L=0, mu_R=1000)\n",
    "\n",
    "# Thermoelectric current (excited state above right lead)\n",
    "print analytic_additive_current(1000, Gamma_L=0.1, Gamma_R=0.1, T_L=1000., T_R=77., mu_L=0, mu_R=800)\n",
    "\n",
    "def current_from_L(H, L_full, L_track, n):\n",
    "    rho_ss = qt.steadystate(H, [L_full])\n",
    "    time_dependence = (qt.vector_to_operator(L_track*qt.operator_to_vector(rho_ss))*n).tr()\n",
    "    return -time_dependence\n",
    "\n",
    "print \"Comparing numerical and analytical\"\n",
    "\n",
    "L_L = non_additive_dissipator(H, d, eps, T, mu, Gamma, eps, eps, J_underdamped)\n",
    "L_R = non_additive_dissipator(H, d, eps, T, -mu, Gamma, eps, eps, J_underdamped)\n",
    "an_curr = analytic_additive_current(eps, Gamma_L=Gamma, Gamma_R=Gamma, T_L=T, T_R=T, mu_L=mu, mu_R=-mu)\n",
    "R_num_curr = current_from_L(H, L_L+L_R, L_R, E)\n",
    "L_num_curr = current_from_L(H, L_L+L_R, L_L, E)\n",
    "print \"analytic current: \\t\\t\", an_curr\n",
    "print \"numerical current (right lead): \", R_num_curr\n",
    "print \"numerical current (left lead) : \", L_num_curr"
   ]
  },
  {
   "cell_type": "markdown",
   "metadata": {},
   "source": [
    "Amazingly, this worked and gives the correct prediction for steady state current, though there is an extraneous factor of two that I'm not entirely sure comes from. I've inserted it into the `analytic_additive_current` function."
   ]
  },
  {
   "cell_type": "markdown",
   "metadata": {},
   "source": [
    "# Phonons, photocurrent and more\n",
    "**09/06/18**\n",
    "\n",
    "Now I've got everything in place that I need to do the calculations for this paper. I can non-additively include multiple fermionic environments, calculate current through each lead, include vibrational and optical environments (non-additively) with my previous RC code.\n",
    "\n",
    "I should now try to gather a few plots to understand:\n",
    "- How do molecular (electronic and vibrational DOF) properties affect transport in a biased junction-like system. Try to see if phonons open up pathways - is this visible in the additive theory? This would be a plot of current vs voltage.\n",
    "- Look at how incoherent excitation affects current between the additive and non-additive theories."
   ]
  }
 ],
 "metadata": {
  "kernelspec": {
   "display_name": "Python 2",
   "language": "python",
   "name": "python2"
  },
  "language_info": {
   "codemirror_mode": {
    "name": "ipython",
    "version": 2
   },
   "file_extension": ".py",
   "mimetype": "text/x-python",
   "name": "python",
   "nbconvert_exporter": "python",
   "pygments_lexer": "ipython2",
   "version": "2.7.13"
  }
 },
 "nbformat": 4,
 "nbformat_minor": 2
}
