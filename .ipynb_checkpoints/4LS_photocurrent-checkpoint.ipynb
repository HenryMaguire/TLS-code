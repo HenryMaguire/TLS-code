{
 "cells": [
  {
   "cell_type": "code",
   "execution_count": 12,
   "metadata": {
    "collapsed": true
   },
   "outputs": [],
   "source": [
    "import time\n",
    "import numpy as np\n",
    "\n",
    "import matplotlib.pyplot as plt\n",
    "import qutip as qt\n",
    "from scipy import integrate\n",
    "\n",
    "import UD_liouv as RC\n",
    "import driving_liouv as EM\n",
    "\n",
    "import phonon_weak_coupling as WC\n",
    "\n",
    "from qutip import ket, basis, sigmam, sigmap, sigmaz, spre, sprepost, spost, destroy, mesolve, tensor, qeye, Qobj\n",
    "from numpy import pi, linspace, sqrt\n",
    "from utils import J_overdamped, beta_f, J_underdamped, J_minimal_hard, J_multipolar\n",
    "from utils import ground_and_excited_states, initialise_TLS\n",
    "\n",
    "from fermionic_leads import current_vs_phonon_coupling, current_from_L, L_R_lead_dissipators, build_H\n",
    "import fermionic_leads as fl"
   ]
  },
  {
   "cell_type": "markdown",
   "metadata": {},
   "source": [
    "The main photocell figures of merit are $C_{sc}$, $V_{oc}$ and $P_{max}$ which can all be found from a current-voltage diagram. Firstly, need an environment where all of the phonon, lead and optical parameters are defined to check the sort of phonon occupations that occur with some fair parameters. I'll refactor the old optical-free `current_vs_phonon_coupling` code to do this."
   ]
  },
  {
   "cell_type": "code",
   "execution_count": 18,
   "metadata": {
    "collapsed": true
   },
   "outputs": [],
   "source": [
    "colors = plt.rcParams['axes.prop_cycle'].by_key()['color']\n",
    "\n",
    "kB = 0.695\n",
    "EE = basis(2,1)*basis(2,1).dag()\n",
    "GG = basis(2,0)*basis(2,0).dag()\n",
    "Zero = tensor(basis(2,0), basis(2,0))\n",
    "sz = EE - GG\n",
    "sm = destroy(2)\n",
    "d2 = tensor(sm, sz) # swapped around from the calculations\n",
    "d1 = tensor(qeye(2), sm)\n",
    "I_sys = Qobj(qeye(4), dims= [[2, 2], [2, 2]])\n",
    "d1dag, d2dag = d1.dag(), d2.dag()\n",
    "\n",
    "z_ket = basis(4,0)\n",
    "l_ket = basis(4,1)\n",
    "lp_ket = basis(4,2)\n",
    "d_ket = basis(4,3)\n",
    "\n",
    "D = d1dag*d1*d2dag*d2\n",
    "Z = Qobj(z_ket*z_ket.dag(), dims=D.dims)\n",
    "LUMO = Qobj(l_ket*l_ket.dag(), dims=D.dims)\n",
    "LUMOp = Qobj(lp_ket*lp_ket.dag(), dims=D.dims)\n",
    "n_sub = d1dag*d1 + d2dag*d2 # populatiion operator\n",
    "\n",
    "J_leads = J_underdamped\n",
    "J_EM = J_multipolar\n",
    "def build_H(eps1, eps2, U):\n",
    "    return eps1*d1dag*d1 + eps2*d2dag*d2 + U*D"
   ]
  },
  {
   "cell_type": "code",
   "execution_count": 64,
   "metadata": {},
   "outputs": [
    {
     "name": "stdout",
     "output_type": "stream",
     "text": [
      "Gap is 2.87769784173 times bigger than kbT in silicon\n",
      "RC would need 15.0 states to fill electronic gap.\n",
      "Gap is 1.29496402878 times kBT.\n",
      "0.0 % complete\n",
      "28.5714285714 % complete\n",
      "57.1428571429 % complete\n",
      "Took 47.5806260109 seconds.\n",
      "RC would need 15.0 states to fill electronic gap.\n",
      "Gap is 2.58992805755 times kBT.\n",
      "0.0 % complete\n",
      "28.5714285714 % complete\n",
      "Took 484.021471024 seconds.\n"
     ]
    }
   ],
   "source": [
    "reload(fl)\n",
    "def photocurrent_vs_voltage(eps1, eps2, T_EM=1000., Gamma_EM=0.5, T_ph=77., \n",
    "                            alphaph=100., Gamma=30., w0=70., U=0., N=10,\n",
    "                               gamma_L=1., T_L=77., width_L=1000., pos_L=1000.,\n",
    "                               gamma_R=1., T_R=77., width_R=1000., pos_R=1000.,\n",
    "                               height_L=1., height_R=1., method='iterative-gmres'):\n",
    "    ti = time.time()\n",
    "    mu0 = (eps1+eps2)/2.\n",
    "    \n",
    "    eps = abs(eps2-eps1)\n",
    "    V_values = np. linspace(0., eps, 35)\n",
    "    print \"RC would need {} states to fill electronic gap.\".format(eps/w0)\n",
    "    print \"Gap is {} times kBT.\".format( eps/(0.695*T_EM))\n",
    "    currents_nonadd = []\n",
    "    currents_add = []\n",
    "    H = build_H(eps1, eps2, U)\n",
    "    d_sub = d1+d2\n",
    "    d_RC = tensor(d_sub, qeye(N))\n",
    "    E_RC = tensor(n, qeye(N))\n",
    "    RC_occ = destroy(N).dag()*destroy(N)\n",
    "    RC_occ_ = tensor(I_sys, RC_occ)\n",
    "    obs_ops = [E_RC, RC_occ_]\n",
    "    alpha_ph = alphaph/pi\n",
    "    for i, V in enumerate(V_values):\n",
    "        \n",
    "        L_RC, H_RC, A_EM, A_nrwa, Z, _, _, _ = fl.RC_function_UD(H, n_sub, d_sub, T_ph,\n",
    "                                                            Gamma, w0, alpha_ph,\n",
    "                                                            N, silent=True)\n",
    "        _, H_add, _, _, _, _, _, _ = fl.RC_function_UD(H, n_sub, d_sub, T_ph,\n",
    "                                                            Gamma, w0, 0.,\n",
    "                                                            N, silent=True)\n",
    "        L_EM_add = EM.L_non_rwa(H_add, A_nrwa, eps, Gamma_EM, T_EM, J=J_EM, silent=True)\n",
    "        L_EM_full = EM.L_non_rwa(H_RC, A_nrwa, eps, Gamma_EM, T_EM, J=J_EM, silent=True)\n",
    "        L_Lfull, L_Rfull = fl.L_R_lead_dissipators(H_RC, d_RC,\n",
    "                                            T_L=T_L, mu_L=mu0-(V/2), width_L=width_L,\n",
    "                                            pos_L=pos_L, height_L=height_L,\n",
    "                                            T_R=T_R, mu_R=mu0+(V/2), width_R=width_R,\n",
    "                                            pos_R=pos_R, height_R=height_R)\n",
    "        currents_add.append(fl.current_from_L(H_RC, L_RC+L_Lfull+L_Rfull+L_EM_add, \n",
    "                                            L_Rfull, obs_ops, method=method))\n",
    "        currents_nonadd.append(fl.current_from_L(H_RC, L_RC+L_Lfull+L_Rfull+L_EM_full,\n",
    "                                            L_Rfull, obs_ops, method=method))\n",
    "        del L_Lfull, L_Rfull, L_RC, H_RC, H_add, A_EM, A_nrwa, Z\n",
    "        if (currents_add[-1][0].real <0) and (currents_nonadd[-1][0].real<0):\n",
    "            # only interested up to zero current\n",
    "            break\n",
    "        if (i%10)==0:\n",
    "            print 100*(float(i)/len(V_values)), \"% complete\"\n",
    "    print \"Took {} seconds.\".format(time.time()-ti)\n",
    "    # current_from_L spits out observables side-by-side so need to transpose\n",
    "    currents_add = np.array(currents_add).T\n",
    "    currents_nonadd = np.array(currents_nonadd).T\n",
    "    return V_values[0: len(currents_add[0])], currents_add, currents_nonadd\n",
    "print \"Gap is {} times bigger than kbT in silicon\".format((1.5*8000)/(0.695*6000.))\n",
    "eps1 = 2000.\n",
    "eps2 = 200.\n",
    "eps = (eps1-eps2)\n",
    "v0, ca0, cna0 = photocurrent_vs_voltage(eps1, eps2, U=0., N=3,\n",
    "                                     Gamma_EM=0.5, T_EM=2000., \n",
    "                                     T_ph=77., Gamma=30., w0=eps/15., alphaph=1., \n",
    "                                   gamma_L=1., T_L=77., width_L=eps, pos_L=eps1,\n",
    "                                   gamma_R=1., T_R=77., width_R=eps, pos_R=eps1)\n",
    "\n",
    "\n",
    "v, ca, cna = photocurrent_vs_voltage(eps1, eps2, U=0., N=10,\n",
    "                                     Gamma_EM=0.5, T_EM=1000., \n",
    "                                     T_ph=77., Gamma=30., w0=eps/15., alphaph=100., \n",
    "                                   gamma_L=1., T_L=77., width_L=eps, pos_L=eps1,\n",
    "                                   gamma_R=1., T_R=77., width_R=eps, pos_R=eps1)\n"
   ]
  },
  {
   "cell_type": "code",
   "execution_count": 78,
   "metadata": {},
   "outputs": [
    {
     "name": "stdout",
     "output_type": "stream",
     "text": [
      "28 28 21 21\n"
     ]
    }
   ],
   "source": [
    "print len(ca0[0]), len(cna0[0]), len(ca[0]), len(cna[0])"
   ]
  },
  {
   "cell_type": "code",
   "execution_count": 76,
   "metadata": {
    "collapsed": true
   },
   "outputs": [],
   "source": [
    "v = np. linspace(0., eps, 35)[0:21]\n",
    "v0 = np. linspace(0., eps, 35)[0:28]"
   ]
  },
  {
   "cell_type": "code",
   "execution_count": 99,
   "metadata": {},
   "outputs": [
    {
     "name": "stdout",
     "output_type": "stream",
     "text": [
      "(0.741448567921+0j)\n",
      "(0.741440778623+0j)\n",
      "(0.686035416732+0j)\n",
      "(0.68542271951+0j)\n"
     ]
    }
   ],
   "source": [
    "def estimate_Voc(v, c):\n",
    "    assert c[-1]<0\n",
    "    assert c[-2]>0\n",
    "    intercept = c[-2]\n",
    "    m = (c[-2]-c[-1])/(v[-2]-v[-1])\n",
    "    pred_v = (-c[-2]/m)+v[-2]\n",
    "    return pred_v\n",
    "\n",
    "def power(v, c):\n",
    "    return np.array(v)*np.array(c)\n",
    "\n",
    "def max_power(p):\n",
    "    # can make this more sophisticated at a later date\n",
    "    return max(p)\n",
    "\n",
    "def fill_factor(v, c):\n",
    "    return max_power(power(v, c))/(c[0]*estimate_Voc(v, c))\n",
    "\n",
    "print fill_factor(v0, ca0[0])\n",
    "print fill_factor(v0, cna0[0])\n",
    "print fill_factor(v, ca[0])\n",
    "print fill_factor(v, cna[0])"
   ]
  },
  {
   "cell_type": "markdown",
   "metadata": {},
   "source": [
    "Since the open-circuit has a greater percentage difference between additive and non-additive than the maximum power, the overall fill factor is actually lower in the non-additive case. It also drops for increasing phonon-coupling."
   ]
  },
  {
   "cell_type": "code",
   "execution_count": 100,
   "metadata": {},
   "outputs": [
    {
     "data": {
      "image/png": "[encoded data removed]",
      "text/plain": [
       "<matplotlib.figure.Figure at 0x7f273cc13510>"
      ]
     },
     "metadata": {},
     "output_type": "display_data"
    },
    {
     "data": {
      "image/png": "[encoded data removed]",
      "text/plain": [
       "<matplotlib.figure.Figure at 0x7f273d1d1650>"
      ]
     },
     "metadata": {},
     "output_type": "display_data"
    },
    {
     "data": {
      "image/png": "[encoded data removed]",
      "text/plain": [
       "<matplotlib.figure.Figure at 0x7f273d1bb810>"
      ]
     },
     "metadata": {},
     "output_type": "display_data"
    }
   ],
   "source": [
    "\n",
    "\"\"\"plt.plot(v0, ca0[0], ls='dashed', c=colors[0])\n",
    "plt.plot(v0, cna0[0], label='wc', c=colors[0])\"\"\"\n",
    "plt.plot(v, ca[0], ls='dashed', c=colors[1])\n",
    "plt.plot(v, cna[0], label='sc', c=colors[1])\n",
    "plt.axvline(estimate_Voc(v, ca[0]))\n",
    "plt.grid()\n",
    "plt.legend()\n",
    "\n",
    "plt.figure()\n",
    "plt.plot(v, power(v, ca[0]), ls='dashed', c=colors[1])\n",
    "plt.plot(v, power(v, cna[0]), label='sc', c=colors[1])\n",
    "plt.axhline(max_power(power(v, cna[0])))\n",
    "plt.grid()\n",
    "plt.legend()\n",
    "\n",
    "plt.figure()\n",
    "\"\"\"plt.plot(v0, ca0[1], ls='dashed', c=colors[0])\n",
    "plt.plot(v0, cna0[1], label='wc', c=colors[0])\"\"\"\n",
    "plt.plot(v, ca[1], ls='dashed', c=colors[1])\n",
    "plt.plot(v, cna[1], label='sc', c=colors[1])\n",
    "plt.legend()\n",
    "plt.show()"
   ]
  },
  {
   "cell_type": "code",
   "execution_count": null,
   "metadata": {
    "collapsed": true
   },
   "outputs": [],
   "source": [
    "def photocurrent_vs_phonon_coupling(eps1, eps2, T_EM=1000., Gamma_EM=0.5, T_ph=77., Gamma=30., w0=70., U=0., N=10,\n",
    "                               gamma_L=1., T_L=77., mu_L=1000., width_L=1000., pos_L=1000.,\n",
    "                               gamma_R=1., T_R=77., mu_R=0., width_R=1000., pos_R=1000.,\n",
    "                               height_L=1., height_R=1., method='iterative-gmres'):\n",
    "    ti = time.time()\n",
    "    eps = abs(eps2-eps1)\n",
    "    alpha_prop = np. linspace(0., 1., 15)\n",
    "    print \"RC would need {} states to fill electronic gap.\".format(eps/w0)\n",
    "    currents_nonadd = []\n",
    "    \n",
    "    H = build_H(eps1, eps2, U)\n",
    "    d_sub = d1+d2\n",
    "    d_RC = tensor(d_sub, qeye(N))\n",
    "    E_RC = tensor(n, qeye(N))\n",
    "    RC_occ = destroy(N).dag()*destroy(N)\n",
    "    RC_occ_ = tensor(I_sys, RC_occ)\n",
    "    obs_ops = [E_RC, RC_occ_]\n",
    "    for i, alphap in enumerate(alpha_prop):\n",
    "        alpha_ph = alphap*eps/pi\n",
    "        L_RC, H_RC, A_EM, A_nrwa, Z, _, _, _ = RC_function_UD(H, n_sub, d_sub, T_ph,\n",
    "                                                            Gamma, w0, alpha_ph,\n",
    "                                                            N, silent=True)\n",
    "        _, H_add, _, _, _, _, _, _ = RC_function_UD(H, n_sub, d_sub, T_ph,\n",
    "                                                            Gamma, w0, 0.,\n",
    "                                                            N, silent=True)\n",
    "        L_EM_add = EM.L_non_rwa(H_add, A_nrwa, eps, Gamma_EM, T_EM, J=J_EM, silent=True)\n",
    "        L_EM_full = EM.L_non_rwa(H_RC, A_nrwa, eps, Gamma_EM, T_EM, J=J_EM, silent=True)\n",
    "        L_Lfull, L_Rfull = L_R_lead_dissipators(H_RC, d_RC,\n",
    "                                            T_L=T_L, mu_L=mu_L, width_L=width_L,\n",
    "                                            pos_L=pos_L, height_L=height_L,\n",
    "                                            T_R=T_R, mu_R=mu_R, width_R=width_R,\n",
    "                                            pos_R=pos_R, height_R=height_R)\n",
    "        currents_add.append(current_from_L(H_RC, L_RC+L_Lfull+L_Rfull+L_EM_add, \n",
    "                                            L_Radd, obs_ops, method=method))\n",
    "        currents_nonadd.append(current_from_L(H_RC, L_RC+L_Lfull+L_Rfull+L_EM_full,\n",
    "                                            L_Rfull, obs_ops, method=method))\n",
    "        del L_Lfull, L_Rfull, L_RC, H_RC, H_add, A_EM, A_nrwa, Z\n",
    "        if (i%10)==0:\n",
    "            print 100*(float(i)/len(alpha_prop)), \"% complete\"\n",
    "    print \"Took {} seconds.\".format(time.time()-ti)\n",
    "    return alpha_prop,  np.array(currents_nonadd).T\n"
   ]
  },
  {
   "cell_type": "code",
   "execution_count": null,
   "metadata": {
    "collapsed": true
   },
   "outputs": [],
   "source": [
    "\n",
    "\n",
    "def photocurrent_vs_phonon_coupling(eps, T_ph, Gamma, w0, T_EM=5800., N=10, \n",
    "                                    T_L=77., T_R=77., mu_L=100., mu_R=900.,\n",
    "                                    Gamma_EM=1.):\n",
    "    ti = time.time()\n",
    "    alpha_prop = np. linspace(0, 1., 50)\n",
    "    print \"RC would need {} states to fill electronic gap.\".format(eps/w0)\n",
    "    currents_add = []\n",
    "    currents_nonadd = []\n",
    "    d_RC = tensor(d, qeye(N))\n",
    "    E_RC = tensor(E, qeye(N))\n",
    "    \n",
    "    #timelist = np.linspace(0, 3/Gamma_EM, 360)\n",
    "    for i, alphap in enumerate(alpha_prop):\n",
    "        alpha_ph = alphap*eps/pi\n",
    "        L_RC, H_RC, A_EM, A_nrwa, Z, _, _, _, = RC.RC_function_UD(d, eps, T_ph, Gamma, w0, alpha_ph, \n",
    "                                                         N, silent=True)\n",
    "        L_EM_add = EM.L_EM_lindblad(eps, A_EM, Gamma_EM, T_EM, J_EM, silent=True)\n",
    "        L_EM_full = EM.L_non_rwa(H_RC, A_nrwa, eps, Gamma_EM, T_EM, J=J_EM, silent=True)\n",
    "        L_L_add = additive_lead_dissipator(eps, d_RC, T_L, mu_L, Gamma_l)\n",
    "        L_R_add = additive_lead_dissipator(eps, d_RC, T_R, mu_R, Gamma_l)\n",
    "        L_L_full, L_R_full = fl.L_R_lead_dissipators(H_RC, d_RC, eps, T_L, mu_L, Gamma_l, T_R, mu_R, Gamma_l)\n",
    "        currents_add.append(current_from_L(H_RC, L_RC+L_EM_add+L_L_add+L_R_add, L_R_add, E_RC))\n",
    "        currents_nonadd.append(current_from_L(H_RC, L_RC+L_EM_full+L_L_full+L_R_full, L_R_full, E_RC))\n",
    "        if (i%10)==0:\n",
    "            print 100*(float(i)/len(alpha_prop)), \"% complete\"\n",
    "    print \"Took {} seconds.\".format(time.time()-ti)\n",
    "    return alpha_prop, currents_add, currents_nonadd"
   ]
  }
 ],
 "metadata": {
  "kernelspec": {
   "display_name": "Python 2",
   "language": "python",
   "name": "python2"
  },
  "language_info": {
   "codemirror_mode": {
    "name": "ipython",
    "version": 2
   },
   "file_extension": ".py",
   "mimetype": "text/x-python",
   "name": "python",
   "nbconvert_exporter": "python",
   "pygments_lexer": "ipython2",
   "version": "2.7.13"
  }
 },
 "nbformat": 4,
 "nbformat_minor": 2
}
