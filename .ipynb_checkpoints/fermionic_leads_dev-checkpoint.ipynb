{
 "cells": [
  {
   "cell_type": "markdown",
   "metadata": {},
   "source": [
    "# Fermionic leads and photocurrent\n",
    "\n",
    "In this notebook I will look at introducing a single TLS to leads, both with and without phonons. The natural order is as follows:\n",
    "\n",
    "- TLS without phonons coupled to a single fermionic environment\n",
    "- TLS with phonons, coupled non-additively to FE\n",
    "- TLS with phonons, coupled additively to FE as a special case\n",
    "- TLS without phonons coupled to two FE - compare with known results\n",
    "\n",
    "**Get all of the above done before 11th**\n",
    "\n",
    "- Calculating current with the above model, recreate known results\n",
    "- Introducing optical environments\n",
    "- Photocurrent model\n",
    "- With phonons coupled additively to two FE, no optical bath. Test somehow.\n",
    "- TLS with phonons coupled non-additively to two FE. Test with no optical bath.\n",
    "\n",
    "\n",
    "**Get all of the above done before 15th**\n",
    "- Full photocurrent model in a separate notebook but...\n",
    "- Show that it maps onto simpler 3LS model\n",
    "\n",
    "### Photocurrent analysis ideas\n",
    "**Aim 1: to understand how non-additivity in the leads and phonon coupling affects the photocurrent. **\n",
    "- Do phonons enhance current? \n",
    "- Does non-additivity lead to a disproportionate enhancement?\n",
    "- Look at the four different combinations of theory\n",
    "\n",
    "** Aim 2: to make the point that the simple rate models must have rates which are constrained in the same way as the lead models ** \n",
    "- What is the relationship between these constraints/rates?\n",
    "\n",
    "### For thesis and beyond\n",
    "** The dimer**\n",
    "- Comparing whether phonon non-additivity impacts more here\n",
    "- Does dark-state protection help?\n",
    "- How would one constrain the baths of Neill's paper to get thermodynamically consistent results?"
   ]
  },
  {
   "cell_type": "markdown",
   "metadata": {},
   "source": [
    "## A TLS without phonons coupled to a single fermionic bath"
   ]
  },
  {
   "cell_type": "code",
   "execution_count": 50,
   "metadata": {},
   "outputs": [],
   "source": [
    "from qutip import ket, basis, sigmam, sigmap, spre, sprepost, spost, destroy, mesolve\n",
    "import numpy as np\n",
    "from numpy import pi, linspace\n",
    "import matplotlib.pyplot as plt"
   ]
  },
  {
   "cell_type": "code",
   "execution_count": 49,
   "metadata": {},
   "outputs": [
    {
     "data": {
      "image/png": "[encoded data removed]",
      "text/plain": [
       "<matplotlib.figure.Figure at 0x7fe88d74b690>"
      ]
     },
     "metadata": {},
     "output_type": "display_data"
    }
   ],
   "source": [
    "kB = 0.695\n",
    "\n",
    "\n",
    "def J_flat(eps, Gamma_0):\n",
    "    return Gamma_0*eps\n",
    "\n",
    "def fermi_occ(eps, T, mu):\n",
    "    eps, T, mu = float(eps), float(T), float(mu)\n",
    "    exp_part = np.exp((eps-mu)/(kB*T))\n",
    "    return 1/(exp_part+1)\n",
    "\n",
    "def additive_dissipator(eps, T, mu, Gamma):\n",
    "    \n",
    "    L = 0\n",
    "    L+= J_flat(eps, Gamma)*fermi_occ(eps, T, mu)*(spost(d*ddag)+spre(d*ddag)-2*sprepost(ddag, d))\n",
    "    L+= J_flat(eps, Gamma)*(1-fermi_occ(eps, T, mu))*(spost(ddag*d)+spre(ddag*d)-2*sprepost(d, ddag))\n",
    "    return -L\n",
    "d = destroy(2)\n",
    "ddag = d.dag()\n",
    "\n",
    "E = basis(2,1)*basis(2,1).dag()\n",
    "G = basis(2,0)*basis(2,0).dag()\n",
    "eps = 1000\n",
    "mu = 100\n",
    "T = 100\n",
    "Gamma = 0.001\n",
    "H = eps*E\n",
    "L = additive_dissipator(eps, T, mu, Gamma)\n",
    "rho0 = basis(2,0)\n",
    "timelist = np.linspace(0,10,100)\n",
    "elist = [basis(2,1)*basis(2,1).dag()]\n",
    "data = mesolve(H, rho0, timelist, [L], elist)\n",
    "rho_ss_num = (-(1/(kB*T))*(eps-mu)*E).expm()\n",
    "rho_ss = rho_ss_num/rho_ss_num.tr()\n",
    "plt.plot(timelist, data.expect[0])\n",
    "\n",
    "plt.axhline((rho_ss*E).tr(), ls='dashed', color='r')\n",
    "plt.show()"
   ]
  },
  {
   "cell_type": "markdown",
   "metadata": {},
   "source": [
    "So that worked first try! Now additive"
   ]
  },
  {
   "cell_type": "code",
   "execution_count": null,
   "metadata": {
    "collapsed": true
   },
   "outputs": [],
   "source": [
    "def rate_up(e_lk, T, mu, Gamma_0):\n",
    "    return pi*J_flat(e_lk, Gamma_0)*fermi_occ(e_lk, T, mu)\n",
    "\n",
    "def rate_down(e_lk, T, mu, Gamma_0):\n",
    "    return pi*J(e_lk, Gamma_0)*(1-fermi_occ(e_lk, T, mu))\n",
    "                                \n",
    "                                \n",
    "def non_additive_dissipator(H, A, eps, T, mu, Gamma_0):\n",
    "    evals, estates = H.eigenstates()\n",
    "    Z_plus_1 = 0\n",
    "    Z_plus_2 = 0\n",
    "    Z_minus_1 = 0\n",
    "    Z_minus_2 = 0\n",
    "    dim = len(evals)\n",
    "    Adag = A.dag()\n",
    "    for l in range(dim):\n",
    "        for k in range(dim):\n",
    "            e_lk = abs(evals[l]- evals[k])\n",
    "            A_kl = A.matrix_element(estates[k].dag(), estates[l])\n",
    "            Adag_lk = Adag.matrix_element(estates[l].dag(), estates[k])\n",
    "            LK = estates[l]*estates[k].dag()\n",
    "            KL = estates[k]*estates[l].dag()\n",
    "            \n",
    "            Z_plus_1 += LK*Adag_lk*rate_up(e_lk, T, mu, Gamma_0)\n",
    "            Z_plus_2 += LK*Adag_lk*rate_down(e_lk, T, mu, Gamma_0)\n",
    "            Z_minus_1 += KL*A_kl*rate_up(e_lk, T, mu, Gamma_0)\n",
    "            Z_minus_2 += KL*A_kl*rate_down(e_lk, T, mu, Gamma_0)\n",
    "    \n",
    "    print Z_plus_1, Z_plus_2, Z_minus_1, Z_minus_2\n",
    "    \n",
    "    return -L"
   ]
  }
 ],
 "metadata": {
  "kernelspec": {
   "display_name": "Python 2",
   "language": "python",
   "name": "python2"
  },
  "language_info": {
   "codemirror_mode": {
    "name": "ipython",
    "version": 2
   },
   "file_extension": ".py",
   "mimetype": "text/x-python",
   "name": "python",
   "nbconvert_exporter": "python",
   "pygments_lexer": "ipython2",
   "version": "2.7.13"
  }
 },
 "nbformat": 4,
 "nbformat_minor": 2
}
