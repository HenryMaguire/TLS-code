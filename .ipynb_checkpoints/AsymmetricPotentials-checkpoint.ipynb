{
 "cells": [
  {
   "cell_type": "markdown",
   "metadata": {},
   "source": [
    "# Assymetrical monomers\n",
    "\n",
    "I expect that a TLS with an RC at both the ground and excited state with different oscillator frequencies will lead to different absorption and emission transition rates at zero electromagnetic temperature. This will be completely ignored in the additive theory. How exactly is best to observe this is yet to be ironed out. "
   ]
  },
  {
   "cell_type": "code",
   "execution_count": null,
   "metadata": {
    "collapsed": true
   },
   "outputs": [],
   "source": [
    "import time\n",
    "\n",
    "from qutip import ket, mesolve, qeye, tensor, thermal_dm, destroy, steadystate, displace\n",
    "import qutip as qt\n",
    "import matplotlib.pyplot as plt\n",
    "import numpy as np\n",
    "from numpy import pi, sqrt\n",
    "\n",
    "import UD_liouv as RC\n",
    "import driving_liouv as EM\n",
    "import exact_IB as exact\n",
    "import scipy as sp\n",
    "\n",
    "import phonon_weak_coupling as WC\n",
    "from utils import J_overdamped, beta_f, J_underdamped, J_minimal_hard, J_multipolar\n",
    "from utils import ground_and_excited_states, initialise_TLS\n",
    "reload(RC)\n",
    "reload(EM)\n",
    "reload(exact)\n",
    "plt.style.use('ggplot')\n",
    "plt.rcParams[\"axes.grid\"] = True\n",
    "plt.rcParams[\"axes.edgecolor\"] = \"0.15\"\n",
    "plt.rcParams[\"axes.linewidth\"]  = 1.5\n",
    "plt.rcParams['axes.facecolor'] = 'white'\n",
    "plt.rcParams['font.size'] = 13\n",
    "plt.rcParams['legend.fontsize'] = 'large'\n",
    "plt.rcParams['figure.titlesize'] = 'medium'"
   ]
  }
 ],
 "metadata": {
  "kernelspec": {
   "display_name": "Python 2",
   "language": "python",
   "name": "python2"
  },
  "language_info": {
   "codemirror_mode": {
    "name": "ipython",
    "version": 2
   },
   "file_extension": ".py",
   "mimetype": "text/x-python",
   "name": "python",
   "nbconvert_exporter": "python",
   "pygments_lexer": "ipython2",
   "version": "2.7.12"
  }
 },
 "nbformat": 4,
 "nbformat_minor": 2
}
