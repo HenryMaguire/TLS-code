{
 "cells": [
  {
   "cell_type": "code",
   "execution_count": 1,
   "metadata": {},
   "outputs": [],
   "source": [
    "%matplotlib inline\n",
    "import time\n",
    "\n",
    "from qutip import ket, mesolve, qeye, tensor, thermal_dm, destroy, steadystate, displace\n",
    "import qutip as qt\n",
    "import matplotlib.pyplot as plt\n",
    "import numpy as np\n",
    "from numpy import pi, sqrt\n",
    "from qutip import sprepost, spre, spost\n",
    "\n",
    "#import UD_liouv as RC\n",
    "#import driving_liouv as EM\n",
    "import scipy as sp\n",
    "\n",
    "#import phonon_weak_coupling as WC\n",
    "#from utils import beta_f, J_underdamped, J_minimal_hard, J_multipolar, J_poly\n",
    "#from utils Occupation\n",
    "import pickle\n",
    "from sympy import coth\n"
   ]
  },
  {
   "cell_type": "code",
   "execution_count": 25,
   "metadata": {},
   "outputs": [],
   "source": [
    "plt.style.use('ggplot')\n",
    "plt.rcParams[\"axes.grid\"] = False\n",
    "plt.rc('grid', linestyle=\"--\", color='grey')\n",
    "plt.rcParams['grid.linestyle'] = \"--\"\n",
    "plt.rcParams[\"axes.edgecolor\"] = \"0.15\"\n",
    "plt.rcParams[\"axes.linewidth\"]  = 1.3\n",
    "plt.rcParams['lines.linewidth'] = 2.3\n",
    "plt.rcParams['axes.facecolor'] = 'white'\n",
    "plt.rcParams['font.size'] = 19\n",
    "plt.rcParams['legend.fontsize'] = 'medium'\n",
    "plt.rcParams['figure.titlesize'] = 'medium'\n",
    "plt.rcParams['mathtext.fontset'] = 'stix'\n",
    "plt.rcParams['font.family'] = 'STIXGeneral'\n",
    "plt.rc('text', usetex=True)\n",
    "plt.rc('text.latex', preamble=r'\\usepackage{amsmath} \\usepackage{physics} ')\n",
    "colours = ['#1E90FF', '#3CB371', '#FFA500', '#FF0000']\n",
    "\n",
    "\n",
    "colors = [c['color'] for c in plt.rcParams['axes.prop_cycle']]\n",
    "colors+=colours\n",
    "colors+=['#8279b8'] "
   ]
  },
  {
   "cell_type": "code",
   "execution_count": 3,
   "metadata": {},
   "outputs": [],
   "source": [
    "def load_obj(name ):\n",
    "    with open(name + '.pickle', 'rb') as f:\n",
    "        return pickle.load(f)\n",
    "\n",
    "def save_obj(obj, name ):\n",
    "    with open(name + '.pickle', 'wb') as f:\n",
    "        pickle.dump(obj, f, pickle.HIGHEST_PROTOCOL)"
   ]
  },
  {
   "cell_type": "markdown",
   "metadata": {},
   "source": [
    "### Default parameters"
   ]
  },
  {
   "cell_type": "code",
   "execution_count": 4,
   "metadata": {},
   "outputs": [],
   "source": [
    "ev_to_inv_cm = 8065.5\n",
    "#inv_ps_to_inv_cm = 33.356227807\n",
    "inv_ps_to_inv_cm = 5.309\n",
    "\n",
    "G = ket([0])\n",
    "E = ket([1])\n",
    "sigma = G*E.dag() # Definition of a sigma_- operator.\n",
    "\n",
    "epsilon = 2. * ev_to_inv_cm\n",
    "w0= 50e-3 * ev_to_inv_cm\n",
    "Gamma = 10e-3 * ev_to_inv_cm\n",
    "lifetime = 100. #ps\n",
    "Gamma_EM = (1/lifetime)*inv_ps_to_inv_cm\n",
    "\n",
    "timelist = np.linspace(0, 1*1e3, 3000)/inv_ps_to_inv_cm"
   ]
  },
  {
   "cell_type": "markdown",
   "metadata": {},
   "source": [
    "### Building CC model"
   ]
  },
  {
   "cell_type": "code",
   "execution_count": 5,
   "metadata": {
    "code_folding": []
   },
   "outputs": [],
   "source": [
    "\n",
    "def displacement(alpha_ph, w0):\n",
    "    return np.sqrt(np.pi * alpha_ph * w0 / 2.)/w0\n",
    "\n",
    "def L_residual(alpha_ph, T_ph, N):\n",
    "    gamma = Gamma / (2. * np.pi * w0)  # coupling between RC and residual bath\n",
    "    \n",
    "    Lambda = np.sqrt(np.pi * alpha_ph * w0 / 2.)  # coupling strength between the TLS and RC\n",
    "    Omega = w0\n",
    "    a = destroy(N)\n",
    "    shift = pi*alpha_ph/2\n",
    "    I_sys = qeye(2)\n",
    "    I_N = qeye(N)\n",
    "    H_S = (epsilon+shift)*tensor(sigma.dag()*sigma, I_N) + Lambda*tensor(sigma.dag()*sigma, (a + a.dag())) \n",
    "    H_S +=  Omega*tensor(I_sys, a.dag()*a)\n",
    "    \n",
    "    S = tensor(I_sys, (a + a.dag()))\n",
    "    zeta  = 0\n",
    "    energies, states = H_S.eigenstates()\n",
    "    dim = len(energies)\n",
    "    for j in range(dim):\n",
    "        for k in range(dim):\n",
    "            state_k, state_j = states[k], states[j]\n",
    "            pos_jk = S.matrix_element(state_j.dag(), state_k)\n",
    "            if np.abs(pos_jk)> 0:\n",
    "                energy_jk = energies[j]-energies[k]\n",
    "                dyad_jk = state_j*state_k.dag()\n",
    "                if np.abs(energy_jk)<1e-12:\n",
    "                    zeta+= pi*0.695*T_ph*gamma*pos_jk*dyad_jk\n",
    "                else:\n",
    "                    zeta+= (pi/2)*gamma*energy_jk*(float(coth(energy_jk/(2*0.695*T_ph)))+1)*pos_jk*dyad_jk\n",
    "    L_ = sprepost(S, zeta) - spost(zeta*S) + sprepost(zeta.dag(), S) - spre(S*zeta.dag())\n",
    "    return H_S, L_, tensor(sigma, I_N)"
   ]
  },
  {
   "cell_type": "code",
   "execution_count": 6,
   "metadata": {
    "code_folding": []
   },
   "outputs": [],
   "source": [
    "def Occupation(omega, T):\n",
    "    n =0.\n",
    "    beta = 0.\n",
    "    if T ==0.: # First calculate beta\n",
    "        n = 0.\n",
    "        beta = np.infty\n",
    "    else:\n",
    "        # no occupation yet, make sure it converges\n",
    "        beta = 1. / (0.695*T)\n",
    "        if sp.exp(omega*beta)-1 ==0.:\n",
    "            n = 0.\n",
    "        else:\n",
    "            n = float(1./(sp.exp(omega*beta)-1))\n",
    "    return n"
   ]
  },
  {
   "cell_type": "markdown",
   "metadata": {},
   "source": [
    "### Additive and non-additive EM theory"
   ]
  },
  {
   "cell_type": "code",
   "execution_count": 7,
   "metadata": {
    "code_folding": [
     50
    ]
   },
   "outputs": [],
   "source": [
    "# Additive model\n",
    "\n",
    "def lindblad(op):\n",
    "    opdop = op.dag()*op\n",
    "    return 2*sprepost(op, op.dag()) - (spre(opdop) + spost(opdop))\n",
    "    \n",
    "def L_additive(A, T_EM):\n",
    "    n = Occupation(epsilon, T_EM)\n",
    "    return (Gamma_EM/2.)*((n+1)*lindblad(A) + n*lindblad(A.dag()))\n",
    "\n",
    "def thermal_state(T_):\n",
    "    th_un = ((-epsilon*E*E.dag()/(0.695*T_)).expm())\n",
    "    return ((th_un/th_un.norm())*E*E.dag()).tr()\n",
    "\n",
    "# The non-secular non-additive model\n",
    "def J_EM(w, s):\n",
    "    return ((w/epsilon)**s)*(Gamma_EM/(2*pi))\n",
    "\n",
    "def rate_up(w, T, s):\n",
    "    n = Occupation(w, T)\n",
    "    rate = pi * n * J_EM(w, s)\n",
    "    return rate\n",
    "\n",
    "def rate_down(w, T, s):\n",
    "    n = Occupation(w, T)\n",
    "    rate = pi * (n + 1. ) * J_EM(w, s)\n",
    "    return rate\n",
    "\n",
    "def commutators(A, B):\n",
    "    return spre(A*B) - sprepost(B, A) + spost(B.dag()*A.dag()) - sprepost(A.dag(), B.dag())\n",
    "\n",
    "def L_optical(H, sigma_CC, T_EM, s=3, tol=1e-12):\n",
    "    Xi_1 = 0\n",
    "    Xi_2 = 0\n",
    "    energies, states = H.eigenstates()\n",
    "    dim = len(energies)\n",
    "    sigma_test = 0\n",
    "    for j in range(dim):\n",
    "        for k in range(dim):\n",
    "            energy_jk = energies[j]-energies[k]\n",
    "            \n",
    "            if energy_jk<-tol:\n",
    "                # if energy is smaller than negative tolerance, count it as negative\n",
    "                state_k, state_j = states[k], states[j]\n",
    "                sigma_jk = sigma_CC.matrix_element(state_j.dag(), state_k)\n",
    "                sigma_dag_kj = (sigma_CC.dag()).matrix_element(state_k.dag(), state_j)\n",
    "                \n",
    "                dyad_jk = state_j*state_k.dag()\n",
    "                Xi_1 += sigma_jk*rate_down(abs(energy_jk), T_EM, s)*dyad_jk\n",
    "                Xi_2 += sigma_dag_kj*rate_up(abs(energy_jk), T_EM, s)*dyad_jk.dag()\n",
    "                \n",
    "            elif abs(energy_jk)<tol: \n",
    "                # if the magnitude of the energy is smaller than numerical tolerance\n",
    "                # account for the zero frequency contribution, which is zero if s>1\n",
    "                if s==1:\n",
    "                    zero_contribution = Gamma_EM*0.695*T_EM/(2*pi*epsilon)\n",
    "                    state_k, state_j = states[k], states[j]\n",
    "                    sigma_jk = sigma_CC.matrix_element(state_j.dag(), state_k)\n",
    "                    sigma_dag_kj = (sigma_CC.dag()).matrix_element(state_k.dag(), state_j)\n",
    "\n",
    "                    dyad_jk = state_j*state_k.dag()\n",
    "                    Xi_1 += sigma_jk*zero_contribution*dyad_jk\n",
    "                    Xi_2 += sigma_dag_kj*zero_contribution*dyad_jk.dag()\n",
    "                elif s<1:\n",
    "                    raise ValueError(\"Cannot use sub-ohmic spectral densities.\")\n",
    "                else:\n",
    "                    pass # superohmic zero-freq contrib. -> 0\n",
    "            else:\n",
    "                pass # Remaining case is that energy is positive, therefore add nothing to the ops\n",
    "    L = -commutators(sigma_CC.dag(), Xi_1) - commutators(sigma_CC, Xi_2)\n",
    "    return L\n"
   ]
  },
  {
   "cell_type": "code",
   "execution_count": 8,
   "metadata": {},
   "outputs": [
    {
     "data": {
      "text/plain": [
       "Text(0,0.5,'$J_{EM}(\\\\omega)$')"
      ]
     },
     "execution_count": 8,
     "metadata": {},
     "output_type": "execute_result"
    },
    {
     "data": {
      "image/png": "[encoded data removed]",
      "text/plain": [
       "<Figure size 432x288 with 1 Axes>"
      ]
     },
     "metadata": {},
     "output_type": "display_data"
    }
   ],
   "source": [
    "w = np.linspace(0,1000, 10000)\n",
    "plt.plot(w, J_EM(w, 3))\n",
    "plt.ylabel(r\"$J_{EM}(\\omega)$\")"
   ]
  },
  {
   "cell_type": "markdown",
   "metadata": {},
   "source": [
    "### Helper functions to put models together"
   ]
  },
  {
   "cell_type": "code",
   "execution_count": 9,
   "metadata": {},
   "outputs": [],
   "source": [
    "def build_model(alpha, T_ph, T_EM, N, silent=True, s=3):\n",
    "    H_model, L_model, A_EM = L_residual(alpha, T_ph, N)\n",
    "    L_model += L_optical(H_model, A_EM, T_EM, s=s)\n",
    "    #L_model += EM.L_non_rwa(H_model, A_EM+A_EM.dag(), epsilon, Gamma_EM, T_EM, J_multipolar, principal=False, \n",
    "    #                            silent=True, alpha=0., tol=1e-5)\n",
    "    return H_model, L_model, A_EM\n",
    "\n",
    "\n",
    "def build_additive_model(alpha, T_ph, T_EM, N, silent=True):\n",
    "    H_model, L_model, A_EM = L_residual(alpha, T_ph, N)\n",
    "    A_EM = tensor(sigma, qeye(N))\n",
    "    L_model += L_additive(A_EM, T_EM)\n",
    "    return H_model, L_model, A_EM\n"
   ]
  },
  {
   "cell_type": "markdown",
   "metadata": {},
   "source": [
    "# $S_{min}(T_{EM})$"
   ]
  },
  {
   "cell_type": "code",
   "execution_count": 10,
   "metadata": {},
   "outputs": [
    {
     "data": {
      "image/png": "[encoded data removed]",
      "text/plain": [
       "<Figure size 432x288 with 1 Axes>"
      ]
     },
     "metadata": {},
     "output_type": "display_data"
    },
    {
     "data": {
      "image/png": "[encoded data removed]",
      "text/plain": [
       "<Figure size 432x288 with 1 Axes>"
      ]
     },
     "metadata": {},
     "output_type": "display_data"
    }
   ],
   "source": [
    "\n",
    "def s_min_as_ratio(x):\n",
    "    # epsilon/T_EM\n",
    "    return 0.5*x*float(coth(0.5*x))\n",
    "\n",
    "\n",
    "def s_min(epsilon, T_EM):\n",
    "    fac = epsilon/(2*0.695*T_EM)\n",
    "    return fac*float(coth(fac))\n",
    "\n",
    "\n",
    "T_EM = np.linspace(1000., 30e3, 1000)\n",
    "\n",
    "plt.plot(T_EM*1e-3, [s_min(epsilon, t) for t in T_EM])\n",
    "plt.axhline(1, ls='dotted', color='k')\n",
    "plt.xlim(0, T_EM[-1]*1e-3)\n",
    "plt.ylim(0, 10)\n",
    "plt.xlabel(r\"$T_{EM}$ ($\\times 10^{3}K$)\")\n",
    "plt.ylabel(r\"$s_{min}$\")\n",
    "plt.subplots_adjust(left=0.12, bottom=0.20, right=0.97, top=0.97, wspace=0.24, hspace=0.015)\n",
    "\n",
    "plt.savefig(\"thesis-figures/s_min_T.pdf\")\n",
    "\n",
    "plt.figure()\n",
    "epsilon_over_T_EM = np.linspace(0.1, 10)\n",
    "plt.plot(epsilon_over_T_EM, [s_min_as_ratio(x) for x in epsilon_over_T_EM])\n",
    "plt.xlabel(r\"$\\epsilon/k_B T_{EM}$\")\n",
    "plt.ylabel(r\"$s_{min}$\")\n",
    "plt.axhline(1, ls='dotted', color='k')\n",
    "plt.xlim(0, 10)\n",
    "plt.ylim(0, 5)\n",
    "plt.subplots_adjust(left=0.12, bottom=0.20, right=0.97, top=0.97, wspace=0.24, hspace=0.015)\n",
    "\n",
    "plt.savefig(\"thesis-figures/s_min_ratio.pdf\")"
   ]
  },
  {
   "cell_type": "markdown",
   "metadata": {},
   "source": [
    "# Steady-states"
   ]
  },
  {
   "cell_type": "code",
   "execution_count": 11,
   "metadata": {
    "scrolled": true
   },
   "outputs": [],
   "source": [
    "def get_steadystate_population(alpha, T_ph, T_EM, N, s=3):\n",
    "    H_test, L_test, A_EM = build_model(alpha, T_ph, T_EM, N, s=s)\n",
    "    return (steadystate(H_test, [L_test])*A_EM.dag()*A_EM).tr()\n",
    "\n",
    "def get_steadystate_population_additive(alpha, T_ph, T_EM, N):\n",
    "    H_test, L_test, A_EM = build_additive_model(alpha, T_ph, T_EM, N)\n",
    "    return (steadystate(H_test, [L_test])*A_EM.dag()*A_EM).tr()\n",
    "\n",
    "def plot_convergence(N_conv, conv_data, alpha_ratio):\n",
    "    plt.plot(N_conv, conv_data, label=r'$\\alpha\\epsilon^{-1} = $'+'{}'.format(alpha_ratio))\n",
    "    plt.xlabel('N')\n",
    "    plt.ylabel(r'$\\rho_e$')\n",
    "    plt.subplots_adjust(left=0.18, bottom=0.18, right=0.97, top=0.98, wspace=0.24, hspace=0.015)\n",
    "    plt.legend()\n",
    "# test\n",
    "\n",
    "assert((get_steadystate_population(0., 300., 6000., 6) - thermal_state(6000.))<1e-12)"
   ]
  },
  {
   "cell_type": "markdown",
   "metadata": {},
   "source": [
    "# Phonon-coupling dependence\n",
    "\n"
   ]
  },
  {
   "cell_type": "code",
   "execution_count": 32,
   "metadata": {},
   "outputs": [
    {
     "name": "stdout",
     "output_type": "stream",
     "text": [
      "[1.0, 2, 2.016718277983244, 3]\n",
      "[1.0, 1.2938975457009794, 2, 3]\n"
     ]
    }
   ],
   "source": [
    "alpha_over_epsilons = np.linspace(0.0, 0.3,50)\n",
    "T_test = 6000.\n",
    "N = 45\n",
    "s_vals = [1., 2, s_min(epsilon, T_test), 3]\n",
    "print(s_vals)\n",
    "\n",
    "data_6000 = []\n",
    "for s in s_vals:\n",
    "    row = []\n",
    "    for alpha_r in alpha_over_epsilons:\n",
    "        row.append(get_steadystate_population(alpha_r*epsilon, 300., T_test, N, s=s))\n",
    "    data_6000.append(row)\n",
    "\n"
   ]
  },
  {
   "cell_type": "code",
   "execution_count": 35,
   "metadata": {},
   "outputs": [],
   "source": []
  },
  {
   "cell_type": "code",
   "execution_count": 37,
   "metadata": {},
   "outputs": [
    {
     "name": "stdout",
     "output_type": "stream",
     "text": [
      "[1.0, 1.2938975457009794, 2, 3]\n"
     ]
    }
   ],
   "source": [
    "alpha_over_epsilons = np.linspace(0.0, 0.1,20)\n",
    "T_test = 12000.\n",
    "N = 40\n",
    "s_vals = [1., s_min(epsilon, T_test), 2, 3]\n",
    "print(s_vals)\n",
    "\n",
    "data_12000 = []\n",
    "for s in s_vals:\n",
    "    row = []\n",
    "    for alpha_r in alpha_over_epsilons:\n",
    "        row.append(get_steadystate_population(alpha_r*epsilon, 300., T_test, N, s=s))\n",
    "    data_12000.append(row)"
   ]
  },
  {
   "cell_type": "code",
   "execution_count": 50,
   "metadata": {},
   "outputs": [
    {
     "data": {
      "image/png": "[encoded data removed]",
      "text/plain": [
       "<Figure size 432x288 with 1 Axes>"
      ]
     },
     "metadata": {},
     "output_type": "display_data"
    }
   ],
   "source": [
    "alpha_over_epsilons = np.linspace(0.0, 0.3,50)\n",
    "plt.plot(alpha_over_epsilons, data_6000[0], label='$s=1$')\n",
    "plt.plot(alpha_over_epsilons, data_6000[1], label='$s=2$')\n",
    "plt.plot(alpha_over_epsilons, data_6000[2], label='$s=s_{min}$')\n",
    "plt.plot(alpha_over_epsilons, data_6000[3], label='$s=3$')\n",
    "plt.legend()\n",
    "plt.xlim(0, 0.1)\n",
    "plt.ylim(0.014, 0.035)\n",
    "plt.xlabel(r\"Coupling strength, $\\alpha\\epsilon^{-1}$\")\n",
    "plt.ylabel(r'$\\expval{\\sigma^{\\dagger}\\sigma}$')\n",
    "plt.subplots_adjust(left=0.15, bottom=0.20, right=0.97, top=0.97, wspace=0.24, hspace=0.015)\n",
    "plt.savefig(\"thesis-figures/population-enhancement-T6000.pdf\")"
   ]
  },
  {
   "cell_type": "code",
   "execution_count": 39,
   "metadata": {},
   "outputs": [
    {
     "data": {
      "image/png": "[encoded data removed]",
      "text/plain": [
       "<Figure size 432x288 with 1 Axes>"
      ]
     },
     "metadata": {},
     "output_type": "display_data"
    }
   ],
   "source": [
    "plt.plot(alpha_over_epsilons, data_12000[0], label='$s=1$')\n",
    "plt.plot(alpha_over_epsilons, data_12000[1], label='$s=s_{min}$')\n",
    "plt.plot(alpha_over_epsilons, data_12000[2], label='$s=2$')\n",
    "plt.plot(alpha_over_epsilons, data_12000[3], label='$s=3$')\n",
    "plt.legend()\n",
    "plt.xlim(0, 0.1)\n",
    "plt.xlabel(r\"Coupling strength, $\\alpha\\epsilon^{-1}$\")\n",
    "plt.ylabel(r'$\\expval{\\sigma^{\\dagger}\\sigma}$')\n",
    "plt.subplots_adjust(left=0.15, bottom=0.20, right=0.96, top=0.97, wspace=0.24, hspace=0.015)\n",
    "plt.savefig(\"thesis-figures/population-enhancement-T12000.pdf\")"
   ]
  },
  {
   "cell_type": "code",
   "execution_count": null,
   "metadata": {},
   "outputs": [],
   "source": []
  }
 ],
 "metadata": {
  "kernelspec": {
   "display_name": "Python 3",
   "language": "python",
   "name": "python3"
  },
  "language_info": {
   "codemirror_mode": {
    "name": "ipython",
    "version": 3
   },
   "file_extension": ".py",
   "mimetype": "text/x-python",
   "name": "python",
   "nbconvert_exporter": "python",
   "pygments_lexer": "ipython3",
   "version": "3.7.0"
  },
  "notify_time": "5"
 },
 "nbformat": 4,
 "nbformat_minor": 2
}
